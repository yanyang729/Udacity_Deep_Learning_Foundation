{
 "cells": [
  {
   "cell_type": "markdown",
   "metadata": {
    "collapsed": true
   },
   "source": [
    "# Image Classification\n",
    "In this project, you'll classify images from the [CIFAR-10 dataset](https://www.cs.toronto.edu/~kriz/cifar.html).  The dataset consists of airplanes, dogs, cats, and other objects. You'll preprocess the images, then train a convolutional neural network on all the samples. The images need to be normalized and the labels need to be one-hot encoded.  You'll get to apply what you learned and build a convolutional, max pooling, dropout, and fully connected layers.  At the end, you'll get to see your neural network's predictions on the sample images.\n",
    "## Get the Data\n",
    "Run the following cell to download the [CIFAR-10 dataset for python](https://www.cs.toronto.edu/~kriz/cifar-10-python.tar.gz)."
   ]
  },
  {
   "cell_type": "code",
   "execution_count": 1,
   "metadata": {
    "collapsed": false
   },
   "outputs": [
    {
     "name": "stdout",
     "output_type": "stream",
     "text": [
      "All files found!\n"
     ]
    }
   ],
   "source": [
    "\"\"\"\n",
    "DON'T MODIFY ANYTHING IN THIS CELL THAT IS BELOW THIS LINE\n",
    "\"\"\"\n",
    "from urllib.request import urlretrieve\n",
    "from os.path import isfile, isdir\n",
    "from tqdm import tqdm\n",
    "import problem_unittests as tests\n",
    "import tarfile\n",
    "\n",
    "cifar10_dataset_folder_path = 'cifar-10-batches-py'\n",
    "\n",
    "class DLProgress(tqdm):\n",
    "    last_block = 0\n",
    "\n",
    "    def hook(self, block_num=1, block_size=1, total_size=None):\n",
    "        self.total = total_size\n",
    "        self.update((block_num - self.last_block) * block_size)\n",
    "        self.last_block = block_num\n",
    "\n",
    "if not isfile('cifar-10-python.tar.gz'):\n",
    "    with DLProgress(unit='B', unit_scale=True, miniters=1, desc='CIFAR-10 Dataset') as pbar:\n",
    "        urlretrieve(\n",
    "            'https://www.cs.toronto.edu/~kriz/cifar-10-python.tar.gz',\n",
    "            'cifar-10-python.tar.gz',\n",
    "            pbar.hook)\n",
    "\n",
    "if not isdir(cifar10_dataset_folder_path):\n",
    "    with tarfile.open('cifar-10-python.tar.gz') as tar:\n",
    "        tar.extractall()\n",
    "        tar.close()\n",
    "\n",
    "\n",
    "tests.test_folder_path(cifar10_dataset_folder_path)"
   ]
  },
  {
   "cell_type": "markdown",
   "metadata": {},
   "source": [
    "## Explore the Data\n",
    "The dataset is broken into batches to prevent your machine from running out of memory.  The CIFAR-10 dataset consists of 5 batches, named `data_batch_1`, `data_batch_2`, etc.. Each batch contains the labels and images that are one of the following:\n",
    "* airplane\n",
    "* automobile\n",
    "* bird\n",
    "* cat\n",
    "* deer\n",
    "* dog\n",
    "* frog\n",
    "* horse\n",
    "* ship\n",
    "* truck\n",
    "\n",
    "Understanding a dataset is part of making predictions on the data.  Play around with the code cell below by changing the `batch_id` and `sample_id`. The `batch_id` is the id for a batch (1-5). The `sample_id` is the id for a image and label pair in the batch.\n",
    "\n",
    "Ask yourself \"What are all possible labels?\", \"What is the range of values for the image data?\", \"Are the labels in order or random?\".  Answers to questions like these will help you preprocess the data and end up with better predictions."
   ]
  },
  {
   "cell_type": "code",
   "execution_count": 6,
   "metadata": {
    "collapsed": false
   },
   "outputs": [
    {
     "name": "stdout",
     "output_type": "stream",
     "text": [
      "\n",
      "Stats of batch 1:\n",
      "Samples: 10000\n",
      "Label Counts: {0: 1005, 1: 974, 2: 1032, 3: 1016, 4: 999, 5: 937, 6: 1030, 7: 1001, 8: 1025, 9: 981}\n",
      "First 20 Labels: [6, 9, 9, 4, 1, 1, 2, 7, 8, 3, 4, 7, 7, 2, 9, 9, 9, 3, 2, 6]\n",
      "\n",
      "Example of Image 3:\n",
      "Image - Min Value: 4 Max Value: 234\n",
      "Image - Shape: (32, 32, 3)\n",
      "Label - Label Id: 4 Name: deer\n"
     ]
    },
    {
     "data": {
      "image/png": "[encoded data removed]",
      "text/plain": [
       "<matplotlib.figure.Figure at 0x7f6544aa6898>"
      ]
     },
     "metadata": {
      "image/png": {
       "height": 250,
       "width": 253
      }
     },
     "output_type": "display_data"
    }
   ],
   "source": [
    "%matplotlib inline\n",
    "%config InlineBackend.figure_format = 'retina'\n",
    "\n",
    "import helper\n",
    "import numpy as np\n",
    "\n",
    "# Explore the dataset\n",
    "batch_id = 1\n",
    "sample_id = 3\n",
    "helper.display_stats(cifar10_dataset_folder_path, batch_id, sample_id)"
   ]
  },
  {
   "cell_type": "markdown",
   "metadata": {},
   "source": [
    "## Implement Preprocess Functions\n",
    "### Normalize\n",
    "In the cell below, implement the `normalize` function to take in image data, `x`, and return it as a normalized Numpy array. The values should be in the range of 0 to 1, inclusive.  The return object should be the same shape as `x`."
   ]
  },
  {
   "cell_type": "code",
   "execution_count": 11,
   "metadata": {
    "collapsed": false
   },
   "outputs": [
    {
     "name": "stdout",
     "output_type": "stream",
     "text": [
      "Tests Passed\n"
     ]
    }
   ],
   "source": [
    "def normalize(x):\n",
    "    \"\"\"\n",
    "    Normalize a list of sample image data in the range of 0 to 1\n",
    "    : x: List of image data.  The image shape is (32, 32, 3)\n",
    "    : return: Numpy array of normalize data\n",
    "    \"\"\"\n",
    "    # TODO: Implement Function\n",
    "    img = np.asarray(x)\n",
    "    img = (img - np.min(img))/(np.max(img)-np.min(img))\n",
    "    \n",
    "    return img\n",
    "\n",
    "\n",
    "\"\"\"\n",
    "DON'T MODIFY ANYTHING IN THIS CELL THAT IS BELOW THIS LINE\n",
    "\"\"\"\n",
    "tests.test_normalize(normalize)"
   ]
  },
  {
   "cell_type": "markdown",
   "metadata": {},
   "source": [
    "### One-hot encode\n",
    "Just like the previous code cell, you'll be implementing a function for preprocessing.  This time, you'll implement the `one_hot_encode` function. The input, `x`, are a list of labels.  Implement the function to return the list of labels as One-Hot encoded Numpy array.  The possible values for labels are 0 to 9. The one-hot encoding function should return the same encoding for each value between each call to `one_hot_encode`.  Make sure to save the map of encodings outside the function.\n",
    "\n",
    "Hint: Don't reinvent the wheel."
   ]
  },
  {
   "cell_type": "code",
   "execution_count": 14,
   "metadata": {
    "collapsed": false
   },
   "outputs": [
    {
     "name": "stdout",
     "output_type": "stream",
     "text": [
      "Tests Passed\n"
     ]
    }
   ],
   "source": [
    "def one_hot_encode(x):\n",
    "    \"\"\"\n",
    "    One hot encode a list of sample labels. Return a one-hot encoded vector for each label.\n",
    "    : x: List of sample Labels\n",
    "    : return: Numpy array of one-hot encoded labels\n",
    "    \"\"\"\n",
    "    # TODO: Implement Function\n",
    "    return_list = []\n",
    "    for label in x:\n",
    "        one_hot = np.zeros(10)\n",
    "        one_hot[label]=1\n",
    "        return_list.append(one_hot)\n",
    "    return np.array(return_list)\n",
    "\n",
    "\n",
    "\"\"\"\n",
    "DON'T MODIFY ANYTHING IN THIS CELL THAT IS BELOW THIS LINE\n",
    "\"\"\"\n",
    "tests.test_one_hot_encode(one_hot_encode)"
   ]
  },
  {
   "cell_type": "markdown",
   "metadata": {},
   "source": [
    "### Randomize Data\n",
    "As you saw from exploring the data above, the order of the samples are randomized.  It doesn't hurt to randomize it again, but you don't need to for this dataset."
   ]
  },
  {
   "cell_type": "markdown",
   "metadata": {},
   "source": [
    "## Preprocess all the data and save it\n",
    "Running the code cell below will preprocess all the CIFAR-10 data and save it to file. The code below also uses 10% of the training data for validation."
   ]
  },
  {
   "cell_type": "code",
   "execution_count": 15,
   "metadata": {
    "collapsed": false
   },
   "outputs": [],
   "source": [
    "\"\"\"\n",
    "DON'T MODIFY ANYTHING IN THIS CELL\n",
    "\"\"\"\n",
    "# Preprocess Training, Validation, and Testing Data\n",
    "helper.preprocess_and_save_data(cifar10_dataset_folder_path, normalize, one_hot_encode)"
   ]
  },
  {
   "cell_type": "markdown",
   "metadata": {},
   "source": [
    "# Check Point\n",
    "This is your first checkpoint.  If you ever decide to come back to this notebook or have to restart the notebook, you can start from here.  The preprocessed data has been saved to disk."
   ]
  },
  {
   "cell_type": "code",
   "execution_count": 16,
   "metadata": {
    "collapsed": true
   },
   "outputs": [],
   "source": [
    "\"\"\"\n",
    "DON'T MODIFY ANYTHING IN THIS CELL\n",
    "\"\"\"\n",
    "import pickle\n",
    "import problem_unittests as tests\n",
    "import helper\n",
    "\n",
    "# Load the Preprocessed Validation data\n",
    "valid_features, valid_labels = pickle.load(open('preprocess_validation.p', mode='rb'))"
   ]
  },
  {
   "cell_type": "markdown",
   "metadata": {},
   "source": [
    "## Build the network\n",
    "For the neural network, you'll build each layer into a function.  Most of the code you've seen has been outside of functions. To test your code more thoroughly, we require that you put each layer in a function.  This allows us to give you better feedback and test for simple mistakes using our unittests before you submit your project.\n",
    "\n",
    ">**Note:** If you're finding it hard to dedicate enough time for this course each week, we've provided a small shortcut to this part of the project. In the next couple of problems, you'll have the option to use classes from the [TensorFlow Layers](https://www.tensorflow.org/api_docs/python/tf/layers) or [TensorFlow Layers (contrib)](https://www.tensorflow.org/api_guides/python/contrib.layers) packages to build each layer, except the layers you build in the \"Convolutional and Max Pooling Layer\" section.  TF Layers is similar to Keras's and TFLearn's abstraction to layers, so it's easy to pickup.\n",
    "\n",
    ">However, if you would like to get the most out of this course, try to solve all the problems _without_ using anything from the TF Layers packages. You **can** still use classes from other packages that happen to have the same name as ones you find in TF Layers! For example, instead of using the TF Layers version of the `conv2d` class, [tf.layers.conv2d](https://www.tensorflow.org/api_docs/python/tf/layers/conv2d), you would want to use the TF Neural Network version of `conv2d`, [tf.nn.conv2d](https://www.tensorflow.org/api_docs/python/tf/nn/conv2d). \n",
    "\n",
    "Let's begin!\n",
    "\n",
    "### Input\n",
    "The neural network needs to read the image data, one-hot encoded labels, and dropout keep probability. Implement the following functions\n",
    "* Implement `neural_net_image_input`\n",
    " * Return a [TF Placeholder](https://www.tensorflow.org/api_docs/python/tf/placeholder)\n",
    " * Set the shape using `image_shape` with batch size set to `None`.\n",
    " * Name the TensorFlow placeholder \"x\" using the TensorFlow `name` parameter in the [TF Placeholder](https://www.tensorflow.org/api_docs/python/tf/placeholder).\n",
    "* Implement `neural_net_label_input`\n",
    " * Return a [TF Placeholder](https://www.tensorflow.org/api_docs/python/tf/placeholder)\n",
    " * Set the shape using `n_classes` with batch size set to `None`.\n",
    " * Name the TensorFlow placeholder \"y\" using the TensorFlow `name` parameter in the [TF Placeholder](https://www.tensorflow.org/api_docs/python/tf/placeholder).\n",
    "* Implement `neural_net_keep_prob_input`\n",
    " * Return a [TF Placeholder](https://www.tensorflow.org/api_docs/python/tf/placeholder) for dropout keep probability.\n",
    " * Name the TensorFlow placeholder \"keep_prob\" using the TensorFlow `name` parameter in the [TF Placeholder](https://www.tensorflow.org/api_docs/python/tf/placeholder).\n",
    "\n",
    "These names will be used at the end of the project to load your saved model.\n",
    "\n",
    "Note: `None` for shapes in TensorFlow allow for a dynamic size."
   ]
  },
  {
   "cell_type": "code",
   "execution_count": 30,
   "metadata": {
    "collapsed": false
   },
   "outputs": [
    {
     "name": "stdout",
     "output_type": "stream",
     "text": [
      "Image Input Tests Passed.\n",
      "Label Input Tests Passed.\n",
      "Keep Prob Tests Passed.\n"
     ]
    }
   ],
   "source": [
    "import tensorflow as tf\n",
    "\n",
    "def neural_net_image_input(image_shape):\n",
    "    \"\"\"\n",
    "    Return a Tensor for a bach of image input\n",
    "    : image_shape: Shape of the images\n",
    "    : return: Tensor for image input.\n",
    "    \"\"\"\n",
    "    # TODO: Implement Function\n",
    "    x = tf.placeholder('float',[None, image_shape[0], image_shape[1], image_shape[2]],'x')\n",
    "    \n",
    "    return x\n",
    "\n",
    "\n",
    "def neural_net_label_input(n_classes):\n",
    "    \"\"\"\n",
    "    Return a Tensor for a batch of label input\n",
    "    : n_classes: Number of classes\n",
    "    : return: Tensor for label input.\n",
    "    \"\"\"\n",
    "    # TODO: Implement Function\n",
    "    return tf.placeholder('float',[None,n_classes],'y')\n",
    "\n",
    "\n",
    "def neural_net_keep_prob_input():\n",
    "    \"\"\"\n",
    "    Return a Tensor for keep probability\n",
    "    : return: Tensor for keep probability.\n",
    "    \"\"\"\n",
    "    # TODO: Implement Function\n",
    "    prob = tf.placeholder('float',None,'keep_prob')\n",
    "    return prob\n",
    "\n",
    "\n",
    "\"\"\"\n",
    "DON'T MODIFY ANYTHING IN THIS CELL THAT IS BELOW THIS LINE\n",
    "\"\"\"\n",
    "tf.reset_default_graph()\n",
    "tests.test_nn_image_inputs(neural_net_image_input)\n",
    "tests.test_nn_label_inputs(neural_net_label_input)\n",
    "tests.test_nn_keep_prob_inputs(neural_net_keep_prob_input)"
   ]
  },
  {
   "cell_type": "markdown",
   "metadata": {},
   "source": [
    "### Convolution and Max Pooling Layer\n",
    "Convolution layers have a lot of success with images. For this code cell, you should implement the function `conv2d_maxpool` to apply convolution then max pooling:\n",
    "* Create the weight and bias using `conv_ksize`, `conv_num_outputs` and the shape of `x_tensor`.\n",
    "* Apply a convolution to `x_tensor` using weight and `conv_strides`.\n",
    " * We recommend you use same padding, but you're welcome to use any padding.\n",
    "* Add bias\n",
    "* Add a nonlinear activation to the convolution.\n",
    "* Apply Max Pooling using `pool_ksize` and `pool_strides`.\n",
    " * We recommend you use same padding, but you're welcome to use any padding.\n",
    "\n",
    "**Note:** You **can't** use [TensorFlow Layers](https://www.tensorflow.org/api_docs/python/tf/layers) or [TensorFlow Layers (contrib)](https://www.tensorflow.org/api_guides/python/contrib.layers) for **this** layer, but you can still use TensorFlow's [Neural Network](https://www.tensorflow.org/api_docs/python/tf/nn) package. You may still use the shortcut option for all the **other** layers."
   ]
  },
  {
   "cell_type": "code",
   "execution_count": 128,
   "metadata": {
    "collapsed": false
   },
   "outputs": [
    {
     "name": "stdout",
     "output_type": "stream",
     "text": [
      "Tests Passed\n"
     ]
    }
   ],
   "source": [
    "def conv2d_maxpool(x_tensor, conv_num_outputs, conv_ksize, conv_strides, pool_ksize, pool_strides):\n",
    "    \"\"\"\n",
    "    Apply convolution then max pooling to x_tensor\n",
    "    :param x_tensor: TensorFlow Tensor\n",
    "    :param conv_num_outputs: Number of outputs for the convolutional layer\n",
    "    :param conv_ksize: kernal size 2-D Tuple for the convolutional layer\n",
    "    :param conv_strides: Stride 2-D Tuple for convolution\n",
    "    :param pool_ksize: kernal size 2-D Tuple for pool\n",
    "    :param pool_strides: Stride 2-D Tuple for pool\n",
    "    : return: A tensor that represents convolution and max pooling of x_tensor\n",
    "    \"\"\"\n",
    "    # TODO: Implement Function\n",
    "    filter_weights = tf.Variable(tf.truncated_normal(tuple(list(conv_ksize)+[x_tensor.get_shape().as_list()[-1]]+[conv_num_outputs]),stddev=0.01))\n",
    "    strides = [1] + list(conv_strides) + [1]\n",
    "    filter_bias = tf.Variable(tf.zeros(conv_num_outputs))\n",
    "    conv_layer = tf.nn.conv2d(x_tensor,filter_weights,strides,padding='SAME') +filter_bias\n",
    "    maxpool_filter_size = [1]+list(pool_ksize)+[1]\n",
    "    maxpool_strides_size = [1]+list(pool_strides)+[1]\n",
    "    maxpool_layer = tf.nn.max_pool(conv_layer,maxpool_filter_size,maxpool_strides_size,padding='VALID')\n",
    "    return maxpool_layer\n",
    "\n",
    "\n",
    "\"\"\"\n",
    "DON'T MODIFY ANYTHING IN THIS CELL THAT IS BELOW THIS LINE\n",
    "\"\"\"\n",
    "tests.test_con_pool(conv2d_maxpool)"
   ]
  },
  {
   "cell_type": "markdown",
   "metadata": {},
   "source": [
    "### Flatten Layer\n",
    "Implement the `flatten` function to change the dimension of `x_tensor` from a 4-D tensor to a 2-D tensor.  The output should be the shape (*Batch Size*, *Flattened Image Size*). Shortcut option: you can use classes from the [TensorFlow Layers](https://www.tensorflow.org/api_docs/python/tf/layers) or [TensorFlow Layers (contrib)](https://www.tensorflow.org/api_guides/python/contrib.layers) packages for this layer. For more of a challenge, only use other TensorFlow packages."
   ]
  },
  {
   "cell_type": "code",
   "execution_count": 129,
   "metadata": {
    "collapsed": false
   },
   "outputs": [
    {
     "name": "stdout",
     "output_type": "stream",
     "text": [
      "Tests Passed\n"
     ]
    }
   ],
   "source": [
    "def flatten(x_tensor):\n",
    "    \"\"\"\n",
    "    Flatten x_tensor to (Batch Size, Flattened Image Size)\n",
    "    : x_tensor: A tensor of size (Batch Size, ...), where ... are the image dimensions.\n",
    "    : return: A tensor of size (Batch Size, Flattened Image Size).\n",
    "    \"\"\"\n",
    "    # TODO: Implement Function\n",
    "    flatten_layer = tf.reshape(x_tensor,[-1,np.prod(x_tensor.get_shape().as_list()[1:])])\n",
    "    return flatten_layer\n",
    "\n",
    "\n",
    "\"\"\"\n",
    "DON'T MODIFY ANYTHING IN THIS CELL THAT IS BELOW THIS LINE\n",
    "\"\"\"\n",
    "tests.test_flatten(flatten)"
   ]
  },
  {
   "cell_type": "markdown",
   "metadata": {},
   "source": [
    "### Fully-Connected Layer\n",
    "Implement the `fully_conn` function to apply a fully connected layer to `x_tensor` with the shape (*Batch Size*, *num_outputs*). Shortcut option: you can use classes from the [TensorFlow Layers](https://www.tensorflow.org/api_docs/python/tf/layers) or [TensorFlow Layers (contrib)](https://www.tensorflow.org/api_guides/python/contrib.layers) packages for this layer. For more of a challenge, only use other TensorFlow packages."
   ]
  },
  {
   "cell_type": "code",
   "execution_count": 130,
   "metadata": {
    "collapsed": false
   },
   "outputs": [
    {
     "name": "stdout",
     "output_type": "stream",
     "text": [
      "Tests Passed\n"
     ]
    }
   ],
   "source": [
    "def fully_conn(x_tensor, num_outputs):\n",
    "    \"\"\"\n",
    "    Apply a fully connected layer to x_tensor using weight and bias\n",
    "    : x_tensor: A 2-D tensor where the first dimension is batch size.\n",
    "    : num_outputs: The number of output that the new tensor should be.\n",
    "    : return: A 2-D tensor where the second dimension is num_outputs.\n",
    "    \"\"\"\n",
    "    # TODO: Implement Function\n",
    "    fc_layer = tf.contrib.layers.fully_connected(x_tensor,num_outputs)\n",
    "    return fc_layer\n",
    "\n",
    "\n",
    "\"\"\"\n",
    "DON'T MODIFY ANYTHING IN THIS CELL THAT IS BELOW THIS LINE\n",
    "\"\"\"\n",
    "tests.test_fully_conn(fully_conn)"
   ]
  },
  {
   "cell_type": "markdown",
   "metadata": {},
   "source": [
    "### Output Layer\n",
    "Implement the `output` function to apply a fully connected layer to `x_tensor` with the shape (*Batch Size*, *num_outputs*). Shortcut option: you can use classes from the [TensorFlow Layers](https://www.tensorflow.org/api_docs/python/tf/layers) or [TensorFlow Layers (contrib)](https://www.tensorflow.org/api_guides/python/contrib.layers) packages for this layer. For more of a challenge, only use other TensorFlow packages.\n",
    "\n",
    "**Note:** Activation, softmax, or cross entropy should **not** be applied to this."
   ]
  },
  {
   "cell_type": "code",
   "execution_count": 131,
   "metadata": {
    "collapsed": false
   },
   "outputs": [
    {
     "name": "stdout",
     "output_type": "stream",
     "text": [
      "Tests Passed\n"
     ]
    }
   ],
   "source": [
    "def output(x_tensor, num_outputs):\n",
    "    \"\"\"\n",
    "    Apply a output layer to x_tensor using weight and bias\n",
    "    : x_tensor: A 2-D tensor where the first dimension is batch size.\n",
    "    : num_outputs: The number of output that the new tensor should be.\n",
    "    : return: A 2-D tensor where the second dimension is num_outputs.\n",
    "    \"\"\"\n",
    "    # TODO: Implement Function\n",
    "    output = tf.contrib.layers.fully_connected(x_tensor,num_outputs)\n",
    "    return output\n",
    "\n",
    "\n",
    "\"\"\"\n",
    "DON'T MODIFY ANYTHING IN THIS CELL THAT IS BELOW THIS LINE\n",
    "\"\"\"\n",
    "tests.test_output(output)"
   ]
  },
  {
   "cell_type": "markdown",
   "metadata": {},
   "source": [
    "### Create Convolutional Model\n",
    "Implement the function `conv_net` to create a convolutional neural network model. The function takes in a batch of images, `x`, and outputs logits.  Use the layers you created above to create this model:\n",
    "\n",
    "* Apply 1, 2, or 3 Convolution and Max Pool layers\n",
    "* Apply a Flatten Layer\n",
    "* Apply 1, 2, or 3 Fully Connected Layers\n",
    "* Apply an Output Layer\n",
    "* Return the output\n",
    "* Apply [TensorFlow's Dropout](https://www.tensorflow.org/api_docs/python/tf/nn/dropout) to one or more layers in the model using `keep_prob`. "
   ]
  },
  {
   "cell_type": "code",
   "execution_count": 157,
   "metadata": {
    "collapsed": false
   },
   "outputs": [
    {
     "name": "stdout",
     "output_type": "stream",
     "text": [
      "Neural Network Built!\n"
     ]
    }
   ],
   "source": [
    "def conv_net(x, keep_prob):\n",
    "    \"\"\"\n",
    "    Create a convolutional neural network model\n",
    "    : x: Placeholder tensor that holds image data.\n",
    "    : keep_prob: Placeholder tensor that hold dropout keep probability.\n",
    "    : return: Tensor that represents logits\n",
    "    \"\"\"\n",
    "    # TODO: Apply 1, 2, or 3 Convolution and Max Pool layers\n",
    "    #    Play around with different number of outputs, kernel size and stride\n",
    "    # Function Definition from Above:\n",
    "    #    conv2d_maxpool(x_tensor, conv_num_outputs, conv_ksize, conv_strides, pool_ksize, pool_strides)\n",
    "    layer_1 = conv2d_maxpool(x, 50, (3,3), (1,1), (2,2), (2,2))\n",
    "    layer_2 = conv2d_maxpool(x, 20, (5,5), (1,1), (2,2), (2,2))\n",
    "    \n",
    "\n",
    "    # TODO: Apply a Flatten Layer\n",
    "    # Function Definition from Above:\n",
    "    #   flatten(x_tensor)\n",
    "    layer_3 = flatten(layer_1) \n",
    "\n",
    "    # TODO: Apply 1, 2, or 3 Fully Connected Layers\n",
    "    #    Play around with different number of outputs\n",
    "    # Function Definition from Above:\n",
    "    #   fully_conn(x_tensor, num_outputs)\n",
    "    layer_4 = fully_conn(layer_3, 50)\n",
    "    \n",
    "    # TODO: Apply an Output Layer\n",
    "    #    Set this to the number of classes\n",
    "    # Function Definition from Above:\n",
    "    #   output(x_tensor, num_outputs)\n",
    "    output = fully_conn(layer_4, 10)\n",
    "    \n",
    "    # TODO: return output\n",
    "    return output\n",
    "\n",
    "\n",
    "\"\"\"\n",
    "DON'T MODIFY ANYTHING IN THIS CELL THAT IS BELOW THIS LINE\n",
    "\"\"\"\n",
    "\n",
    "##############################\n",
    "## Build the Neural Network ##\n",
    "##############################\n",
    "\n",
    "# Remove previous weights, bias, inputs, etc..\n",
    "tf.reset_default_graph()\n",
    "\n",
    "# Inputs\n",
    "x = neural_net_image_input((32, 32, 3))\n",
    "y = neural_net_label_input(10)\n",
    "keep_prob = neural_net_keep_prob_input()\n",
    "\n",
    "# Model\n",
    "logits = conv_net(x, keep_prob)\n",
    "\n",
    "# Name logits Tensor, so that is can be loaded from disk after training\n",
    "logits = tf.identity(logits, name='logits')\n",
    "\n",
    "# Loss and Optimizer\n",
    "cost = tf.reduce_mean(tf.nn.softmax_cross_entropy_with_logits(logits=logits, labels=y))\n",
    "optimizer = tf.train.AdamOptimizer().minimize(cost)\n",
    "\n",
    "# Accuracy\n",
    "correct_pred = tf.equal(tf.argmax(logits, 1), tf.argmax(y, 1))\n",
    "accuracy = tf.reduce_mean(tf.cast(correct_pred, tf.float32), name='accuracy')\n",
    "\n",
    "tests.test_conv_net(conv_net)"
   ]
  },
  {
   "cell_type": "markdown",
   "metadata": {},
   "source": [
    "## Train the Neural Network\n",
    "### Single Optimization\n",
    "Implement the function `train_neural_network` to do a single optimization.  The optimization should use `optimizer` to optimize in `session` with a `feed_dict` of the following:\n",
    "* `x` for image input\n",
    "* `y` for labels\n",
    "* `keep_prob` for keep probability for dropout\n",
    "\n",
    "This function will be called for each batch, so `tf.global_variables_initializer()` has already been called.\n",
    "\n",
    "Note: Nothing needs to be returned. This function is only optimizing the neural network."
   ]
  },
  {
   "cell_type": "code",
   "execution_count": 158,
   "metadata": {
    "collapsed": false
   },
   "outputs": [
    {
     "name": "stdout",
     "output_type": "stream",
     "text": [
      "Tests Passed\n"
     ]
    }
   ],
   "source": [
    "def train_neural_network(session, optimizer, keep_probability, feature_batch, label_batch):\n",
    "    \"\"\"\n",
    "    Optimize the session on a batch of images and labels\n",
    "    : session: Current TensorFlow session\n",
    "    : optimizer: TensorFlow optimizer function\n",
    "    : keep_probability: keep probability\n",
    "    : feature_batch: Batch of Numpy image data\n",
    "    : label_batch: Batch of Numpy label data\n",
    "    \"\"\"\n",
    "    # TODO: Implement Function\n",
    "    session.run(optimizer,feed_dict={x:feature_batch,y:label_batch,keep_prob:keep_probability})\n",
    "    \n",
    "\n",
    "\n",
    "\"\"\"\n",
    "DON'T MODIFY ANYTHING IN THIS CELL THAT IS BELOW THIS LINE\n",
    "\"\"\"\n",
    "tests.test_train_nn(train_neural_network)"
   ]
  },
  {
   "cell_type": "markdown",
   "metadata": {},
   "source": [
    "### Show Stats\n",
    "Implement the function `print_stats` to print loss and validation accuracy.  Use the global variables `valid_features` and `valid_labels` to calculate validation accuracy.  Use a keep probability of `1.0` to calculate the loss and validation accuracy."
   ]
  },
  {
   "cell_type": "code",
   "execution_count": 159,
   "metadata": {
    "collapsed": false
   },
   "outputs": [],
   "source": [
    "def print_stats(session, feature_batch, label_batch, cost, accuracy):\n",
    "    \"\"\"\n",
    "    Print information about loss and validation accuracy\n",
    "    : session: Current TensorFlow session\n",
    "    : feature_batch: Batch of Numpy image data\n",
    "    : label_batch: Batch of Numpy label data\n",
    "    : cost: TensorFlow cost function\n",
    "    : accuracy: TensorFlow accuracy function\n",
    "    \"\"\"\n",
    "    # TODO: Implement Function\n",
    "    c = session.run(cost,feed_dict={x:feature_batch,y:label_batch,keep_prob:1})\n",
    "    a = session.run(accuracy,feed_dict={x:feature_batch,y:label_batch,keep_prob:1})\n",
    "    print('cost = {:.9f}'.format(c),'accuracy = {:.9f}'.format(a))"
   ]
  },
  {
   "cell_type": "markdown",
   "metadata": {},
   "source": [
    "### Hyperparameters\n",
    "Tune the following parameters:\n",
    "* Set `epochs` to the number of iterations until the network stops learning or start overfitting\n",
    "* Set `batch_size` to the highest number that your machine has memory for.  Most people set them to common sizes of memory:\n",
    " * 64\n",
    " * 128\n",
    " * 256\n",
    " * ...\n",
    "* Set `keep_probability` to the probability of keeping a node using dropout"
   ]
  },
  {
   "cell_type": "code",
   "execution_count": 162,
   "metadata": {
    "collapsed": true
   },
   "outputs": [],
   "source": [
    "# TODO: Tune Parameters\n",
    "epochs = 50\n",
    "batch_size = 256\n",
    "keep_probability = 0.5"
   ]
  },
  {
   "cell_type": "markdown",
   "metadata": {},
   "source": [
    "### Train on a Single CIFAR-10 Batch\n",
    "Instead of training the neural network on all the CIFAR-10 batches of data, let's use a single batch. This should save time while you iterate on the model to get a better accuracy.  Once the final validation accuracy is 50% or greater, run the model on all the data in the next section."
   ]
  },
  {
   "cell_type": "code",
   "execution_count": 163,
   "metadata": {
    "collapsed": false
   },
   "outputs": [
    {
     "name": "stdout",
     "output_type": "stream",
     "text": [
      "Checking the Training on a Single Batch...\n",
      "Epoch  1, CIFAR-10 Batch 1:  cost = 2.214678049 accuracy = 0.174999997\n",
      "Epoch  2, CIFAR-10 Batch 1:  cost = 2.085314751 accuracy = 0.375000000\n",
      "Epoch  3, CIFAR-10 Batch 1:  cost = 1.836300611 accuracy = 0.425000012\n",
      "Epoch  4, CIFAR-10 Batch 1:  cost = 1.687457323 accuracy = 0.425000012\n",
      "Epoch  5, CIFAR-10 Batch 1:  cost = 1.452174664 accuracy = 0.574999988\n",
      "Epoch  6, CIFAR-10 Batch 1:  cost = 1.305970550 accuracy = 0.600000024\n",
      "Epoch  7, CIFAR-10 Batch 1:  cost = 1.183442354 accuracy = 0.700000048\n",
      "Epoch  8, CIFAR-10 Batch 1:  cost = 1.036597371 accuracy = 0.800000072\n",
      "Epoch  9, CIFAR-10 Batch 1:  cost = 0.934070766 accuracy = 0.750000000\n",
      "Epoch 10, CIFAR-10 Batch 1:  cost = 0.831632376 accuracy = 0.800000012\n",
      "Epoch 11, CIFAR-10 Batch 1:  cost = 0.725228190 accuracy = 0.850000024\n",
      "Epoch 12, CIFAR-10 Batch 1:  cost = 0.618519187 accuracy = 0.850000024\n",
      "Epoch 13, CIFAR-10 Batch 1:  cost = 0.579496384 accuracy = 0.875000000\n",
      "Epoch 14, CIFAR-10 Batch 1:  cost = 0.498622835 accuracy = 0.925000012\n",
      "Epoch 15, CIFAR-10 Batch 1:  cost = 0.433380067 accuracy = 0.925000012\n",
      "Epoch 16, CIFAR-10 Batch 1:  cost = 0.383248627 accuracy = 0.949999988\n",
      "Epoch 17, CIFAR-10 Batch 1:  cost = 0.361005843 accuracy = 0.949999988\n",
      "Epoch 18, CIFAR-10 Batch 1:  cost = 0.357157290 accuracy = 0.949999988\n",
      "Epoch 19, CIFAR-10 Batch 1:  cost = 0.293885112 accuracy = 0.949999988\n",
      "Epoch 20, CIFAR-10 Batch 1:  cost = 0.288794935 accuracy = 0.949999988\n",
      "Epoch 21, CIFAR-10 Batch 1:  cost = 0.302047729 accuracy = 0.949999988\n",
      "Epoch 22, CIFAR-10 Batch 1:  cost = 0.263950527 accuracy = 0.949999988\n",
      "Epoch 23, CIFAR-10 Batch 1:  cost = 0.242489845 accuracy = 0.949999988\n",
      "Epoch 24, CIFAR-10 Batch 1:  cost = 0.233107269 accuracy = 0.949999988\n",
      "Epoch 25, CIFAR-10 Batch 1:  cost = 0.221701652 accuracy = 0.949999988\n",
      "Epoch 26, CIFAR-10 Batch 1:  cost = 0.204643816 accuracy = 0.949999988\n",
      "Epoch 27, CIFAR-10 Batch 1:  cost = 0.196093693 accuracy = 0.949999988\n",
      "Epoch 28, CIFAR-10 Batch 1:  cost = 0.185942769 accuracy = 0.949999988\n",
      "Epoch 29, CIFAR-10 Batch 1:  cost = 0.155168816 accuracy = 0.975000024\n",
      "Epoch 30, CIFAR-10 Batch 1:  cost = 0.144611433 accuracy = 0.975000024\n",
      "Epoch 31, CIFAR-10 Batch 1:  cost = 0.148798153 accuracy = 0.975000024\n",
      "Epoch 32, CIFAR-10 Batch 1:  cost = 0.120166987 accuracy = 0.975000024\n",
      "Epoch 33, CIFAR-10 Batch 1:  cost = 0.132793486 accuracy = 0.975000024\n",
      "Epoch 34, CIFAR-10 Batch 1:  cost = 0.157366663 accuracy = 0.975000024\n",
      "Epoch 35, CIFAR-10 Batch 1:  cost = 0.091369011 accuracy = 0.975000024\n",
      "Epoch 36, CIFAR-10 Batch 1:  cost = 0.092895836 accuracy = 0.975000024\n",
      "Epoch 37, CIFAR-10 Batch 1:  cost = 0.094498694 accuracy = 0.975000024\n",
      "Epoch 38, CIFAR-10 Batch 1:  cost = 0.092017613 accuracy = 0.975000024\n",
      "Epoch 39, CIFAR-10 Batch 1:  cost = 0.089482948 accuracy = 0.975000024\n",
      "Epoch 40, CIFAR-10 Batch 1:  cost = 0.087407745 accuracy = 0.975000024\n",
      "Epoch 41, CIFAR-10 Batch 1:  cost = 0.082741782 accuracy = 0.975000024\n",
      "Epoch 42, CIFAR-10 Batch 1:  cost = 0.083280995 accuracy = 0.975000024\n",
      "Epoch 43, CIFAR-10 Batch 1:  cost = 0.086834833 accuracy = 0.975000024\n",
      "Epoch 44, CIFAR-10 Batch 1:  cost = 0.100600794 accuracy = 0.975000024\n",
      "Epoch 45, CIFAR-10 Batch 1:  cost = 0.075131439 accuracy = 0.975000024\n",
      "Epoch 46, CIFAR-10 Batch 1:  cost = 0.075727373 accuracy = 0.975000024\n",
      "Epoch 47, CIFAR-10 Batch 1:  cost = 0.078931846 accuracy = 0.975000024\n",
      "Epoch 48, CIFAR-10 Batch 1:  cost = 0.081733719 accuracy = 0.975000024\n",
      "Epoch 49, CIFAR-10 Batch 1:  cost = 0.076306611 accuracy = 0.975000024\n",
      "Epoch 50, CIFAR-10 Batch 1:  cost = 0.075780153 accuracy = 0.975000024\n"
     ]
    }
   ],
   "source": [
    "\"\"\"\n",
    "DON'T MODIFY ANYTHING IN THIS CELL\n",
    "\"\"\"\n",
    "print('Checking the Training on a Single Batch...')\n",
    "with tf.Session() as sess:\n",
    "    # Initializing the variables\n",
    "    sess.run(tf.global_variables_initializer())\n",
    "    \n",
    "    # Training cycle\n",
    "    for epoch in range(epochs):\n",
    "        batch_i = 1\n",
    "        for batch_features, batch_labels in helper.load_preprocess_training_batch(batch_i, batch_size):\n",
    "            train_neural_network(sess, optimizer, keep_probability, batch_features, batch_labels)\n",
    "        print('Epoch {:>2}, CIFAR-10 Batch {}:  '.format(epoch + 1, batch_i), end='')\n",
    "        print_stats(sess, batch_features, batch_labels, cost, accuracy)"
   ]
  },
  {
   "cell_type": "markdown",
   "metadata": {},
   "source": [
    "### Fully Train the Model\n",
    "Now that you got a good accuracy with a single CIFAR-10 batch, try it with all five batches."
   ]
  },
  {
   "cell_type": "code",
   "execution_count": 164,
   "metadata": {
    "collapsed": false
   },
   "outputs": [
    {
     "name": "stdout",
     "output_type": "stream",
     "text": [
      "Training...\n",
      "Epoch  1, CIFAR-10 Batch 1:  cost = 2.182387590 accuracy = 0.225000009\n",
      "Epoch  1, CIFAR-10 Batch 2:  cost = 2.088128805 accuracy = 0.250000000\n",
      "Epoch  1, CIFAR-10 Batch 3:  cost = 1.864182949 accuracy = 0.350000024\n",
      "Epoch  1, CIFAR-10 Batch 4:  cost = 1.757837057 accuracy = 0.375000000\n",
      "Epoch  1, CIFAR-10 Batch 5:  cost = 1.866855145 accuracy = 0.324999988\n",
      "Epoch  2, CIFAR-10 Batch 1:  cost = 1.865098476 accuracy = 0.450000018\n",
      "Epoch  2, CIFAR-10 Batch 2:  cost = 1.668466091 accuracy = 0.500000000\n",
      "Epoch  2, CIFAR-10 Batch 3:  cost = 1.512882233 accuracy = 0.550000012\n",
      "Epoch  2, CIFAR-10 Batch 4:  cost = 1.328372002 accuracy = 0.525000036\n",
      "Epoch  2, CIFAR-10 Batch 5:  cost = 1.494617462 accuracy = 0.500000000\n",
      "Epoch  3, CIFAR-10 Batch 1:  cost = 1.493521214 accuracy = 0.475000024\n",
      "Epoch  3, CIFAR-10 Batch 2:  cost = 1.189420462 accuracy = 0.650000036\n",
      "Epoch  3, CIFAR-10 Batch 3:  cost = 1.183608890 accuracy = 0.575000048\n",
      "Epoch  3, CIFAR-10 Batch 4:  cost = 1.078372121 accuracy = 0.699999988\n",
      "Epoch  3, CIFAR-10 Batch 5:  cost = 1.254710674 accuracy = 0.524999976\n",
      "Epoch  4, CIFAR-10 Batch 1:  cost = 1.247235060 accuracy = 0.650000036\n",
      "Epoch  4, CIFAR-10 Batch 2:  cost = 0.876855612 accuracy = 0.700000048\n",
      "Epoch  4, CIFAR-10 Batch 3:  cost = 0.931210220 accuracy = 0.699999988\n",
      "Epoch  4, CIFAR-10 Batch 4:  cost = 0.947554231 accuracy = 0.699999988\n",
      "Epoch  4, CIFAR-10 Batch 5:  cost = 1.056551576 accuracy = 0.625000000\n",
      "Epoch  5, CIFAR-10 Batch 1:  cost = 1.057129979 accuracy = 0.750000000\n",
      "Epoch  5, CIFAR-10 Batch 2:  cost = 0.712518930 accuracy = 0.725000024\n",
      "Epoch  5, CIFAR-10 Batch 3:  cost = 0.726531029 accuracy = 0.750000060\n",
      "Epoch  5, CIFAR-10 Batch 4:  cost = 0.783715308 accuracy = 0.800000012\n",
      "Epoch  5, CIFAR-10 Batch 5:  cost = 0.882876992 accuracy = 0.700000048\n",
      "Epoch  6, CIFAR-10 Batch 1:  cost = 0.945993602 accuracy = 0.774999976\n",
      "Epoch  6, CIFAR-10 Batch 2:  cost = 0.589955688 accuracy = 0.824999988\n",
      "Epoch  6, CIFAR-10 Batch 3:  cost = 0.608742177 accuracy = 0.824999988\n",
      "Epoch  6, CIFAR-10 Batch 4:  cost = 0.619904339 accuracy = 0.875000000\n",
      "Epoch  6, CIFAR-10 Batch 5:  cost = 0.734382808 accuracy = 0.775000036\n",
      "Epoch  7, CIFAR-10 Batch 1:  cost = 0.828100026 accuracy = 0.774999976\n",
      "Epoch  7, CIFAR-10 Batch 2:  cost = 0.486193597 accuracy = 0.925000012\n",
      "Epoch  7, CIFAR-10 Batch 3:  cost = 0.516436756 accuracy = 0.850000024\n",
      "Epoch  7, CIFAR-10 Batch 4:  cost = 0.512933671 accuracy = 0.949999988\n",
      "Epoch  7, CIFAR-10 Batch 5:  cost = 0.614305973 accuracy = 0.824999988\n",
      "Epoch  8, CIFAR-10 Batch 1:  cost = 0.753898740 accuracy = 0.825000048\n",
      "Epoch  8, CIFAR-10 Batch 2:  cost = 0.400060654 accuracy = 0.949999988\n",
      "Epoch  8, CIFAR-10 Batch 3:  cost = 0.448811859 accuracy = 0.875000060\n",
      "Epoch  8, CIFAR-10 Batch 4:  cost = 0.435345352 accuracy = 0.974999964\n",
      "Epoch  8, CIFAR-10 Batch 5:  cost = 0.513924122 accuracy = 0.900000036\n",
      "Epoch  9, CIFAR-10 Batch 1:  cost = 0.673501253 accuracy = 0.825000048\n",
      "Epoch  9, CIFAR-10 Batch 2:  cost = 0.330606461 accuracy = 0.974999964\n",
      "Epoch  9, CIFAR-10 Batch 3:  cost = 0.391668975 accuracy = 0.900000036\n",
      "Epoch  9, CIFAR-10 Batch 4:  cost = 0.423514694 accuracy = 0.949999988\n",
      "Epoch  9, CIFAR-10 Batch 5:  cost = 0.455379754 accuracy = 0.900000036\n",
      "Epoch 10, CIFAR-10 Batch 1:  cost = 0.592135727 accuracy = 0.850000024\n",
      "Epoch 10, CIFAR-10 Batch 2:  cost = 0.279235721 accuracy = 0.974999964\n",
      "Epoch 10, CIFAR-10 Batch 3:  cost = 0.342259526 accuracy = 0.925000012\n",
      "Epoch 10, CIFAR-10 Batch 4:  cost = 0.365601122 accuracy = 0.949999988\n",
      "Epoch 10, CIFAR-10 Batch 5:  cost = 0.372586727 accuracy = 0.975000024\n",
      "Epoch 11, CIFAR-10 Batch 1:  cost = 0.517897725 accuracy = 0.850000024\n",
      "Epoch 11, CIFAR-10 Batch 2:  cost = 0.255120099 accuracy = 0.974999964\n",
      "Epoch 11, CIFAR-10 Batch 3:  cost = 0.300796539 accuracy = 0.974999964\n",
      "Epoch 11, CIFAR-10 Batch 4:  cost = 0.307367325 accuracy = 1.000000000\n",
      "Epoch 11, CIFAR-10 Batch 5:  cost = 0.330935121 accuracy = 0.949999988\n",
      "Epoch 12, CIFAR-10 Batch 1:  cost = 0.446927905 accuracy = 0.925000012\n",
      "Epoch 12, CIFAR-10 Batch 2:  cost = 0.233743891 accuracy = 0.974999964\n",
      "Epoch 12, CIFAR-10 Batch 3:  cost = 0.267607838 accuracy = 0.974999964\n",
      "Epoch 12, CIFAR-10 Batch 4:  cost = 0.282818466 accuracy = 1.000000000\n",
      "Epoch 12, CIFAR-10 Batch 5:  cost = 0.304002792 accuracy = 0.949999988\n",
      "Epoch 13, CIFAR-10 Batch 1:  cost = 0.392967045 accuracy = 0.949999988\n",
      "Epoch 13, CIFAR-10 Batch 2:  cost = 0.196040660 accuracy = 0.974999964\n",
      "Epoch 13, CIFAR-10 Batch 3:  cost = 0.245847315 accuracy = 0.974999964\n",
      "Epoch 13, CIFAR-10 Batch 4:  cost = 0.241056442 accuracy = 1.000000000\n",
      "Epoch 13, CIFAR-10 Batch 5:  cost = 0.298497587 accuracy = 0.949999988\n",
      "Epoch 14, CIFAR-10 Batch 1:  cost = 0.343915790 accuracy = 0.975000024\n",
      "Epoch 14, CIFAR-10 Batch 2:  cost = 0.169989377 accuracy = 0.974999964\n",
      "Epoch 14, CIFAR-10 Batch 3:  cost = 0.234225139 accuracy = 0.974999964\n",
      "Epoch 14, CIFAR-10 Batch 4:  cost = 0.221691966 accuracy = 1.000000000\n",
      "Epoch 14, CIFAR-10 Batch 5:  cost = 0.232908040 accuracy = 0.949999988\n",
      "Epoch 15, CIFAR-10 Batch 1:  cost = 0.305369020 accuracy = 0.975000024\n",
      "Epoch 15, CIFAR-10 Batch 2:  cost = 0.158206284 accuracy = 0.974999964\n",
      "Epoch 15, CIFAR-10 Batch 3:  cost = 0.193641245 accuracy = 0.974999964\n",
      "Epoch 15, CIFAR-10 Batch 4:  cost = 0.195010900 accuracy = 1.000000000\n",
      "Epoch 15, CIFAR-10 Batch 5:  cost = 0.202133149 accuracy = 0.975000024\n",
      "Epoch 16, CIFAR-10 Batch 1:  cost = 0.290195942 accuracy = 0.975000024\n",
      "Epoch 16, CIFAR-10 Batch 2:  cost = 0.136890247 accuracy = 1.000000000\n",
      "Epoch 16, CIFAR-10 Batch 3:  cost = 0.174164206 accuracy = 0.974999964\n",
      "Epoch 16, CIFAR-10 Batch 4:  cost = 0.176245376 accuracy = 0.974999964\n",
      "Epoch 16, CIFAR-10 Batch 5:  cost = 0.179567024 accuracy = 0.975000024\n",
      "Epoch 17, CIFAR-10 Batch 1:  cost = 0.263240844 accuracy = 0.975000024\n",
      "Epoch 17, CIFAR-10 Batch 2:  cost = 0.130508497 accuracy = 0.974999964\n",
      "Epoch 17, CIFAR-10 Batch 3:  cost = 0.156083211 accuracy = 1.000000000\n",
      "Epoch 17, CIFAR-10 Batch 4:  cost = 0.164191991 accuracy = 0.974999964\n",
      "Epoch 17, CIFAR-10 Batch 5:  cost = 0.182090878 accuracy = 0.975000024\n",
      "Epoch 18, CIFAR-10 Batch 1:  cost = 0.263193965 accuracy = 0.975000024\n",
      "Epoch 18, CIFAR-10 Batch 2:  cost = 0.116324998 accuracy = 1.000000000\n",
      "Epoch 18, CIFAR-10 Batch 3:  cost = 0.137756377 accuracy = 1.000000000\n",
      "Epoch 18, CIFAR-10 Batch 4:  cost = 0.143827751 accuracy = 1.000000000\n",
      "Epoch 18, CIFAR-10 Batch 5:  cost = 0.142056555 accuracy = 0.975000024\n",
      "Epoch 19, CIFAR-10 Batch 1:  cost = 0.244956046 accuracy = 0.975000024\n",
      "Epoch 19, CIFAR-10 Batch 2:  cost = 0.099610105 accuracy = 1.000000000\n",
      "Epoch 19, CIFAR-10 Batch 3:  cost = 0.127766341 accuracy = 1.000000000\n",
      "Epoch 19, CIFAR-10 Batch 4:  cost = 0.109356225 accuracy = 1.000000000\n",
      "Epoch 19, CIFAR-10 Batch 5:  cost = 0.120557070 accuracy = 1.000000000\n",
      "Epoch 20, CIFAR-10 Batch 1:  cost = 0.234361112 accuracy = 0.975000024\n",
      "Epoch 20, CIFAR-10 Batch 2:  cost = 0.089389980 accuracy = 1.000000000\n",
      "Epoch 20, CIFAR-10 Batch 3:  cost = 0.109836802 accuracy = 1.000000000\n",
      "Epoch 20, CIFAR-10 Batch 4:  cost = 0.099878378 accuracy = 1.000000000\n",
      "Epoch 20, CIFAR-10 Batch 5:  cost = 0.107019596 accuracy = 1.000000000\n",
      "Epoch 21, CIFAR-10 Batch 1:  cost = 0.219441101 accuracy = 0.975000024\n",
      "Epoch 21, CIFAR-10 Batch 2:  cost = 0.078770429 accuracy = 1.000000000\n",
      "Epoch 21, CIFAR-10 Batch 3:  cost = 0.093816802 accuracy = 1.000000000\n",
      "Epoch 21, CIFAR-10 Batch 4:  cost = 0.098301724 accuracy = 1.000000000\n",
      "Epoch 21, CIFAR-10 Batch 5:  cost = 0.096002325 accuracy = 0.975000024\n",
      "Epoch 22, CIFAR-10 Batch 1:  cost = 0.219552904 accuracy = 0.975000024\n",
      "Epoch 22, CIFAR-10 Batch 2:  cost = 0.067411572 accuracy = 1.000000000\n",
      "Epoch 22, CIFAR-10 Batch 3:  cost = 0.074149743 accuracy = 1.000000000\n",
      "Epoch 22, CIFAR-10 Batch 4:  cost = 0.103731677 accuracy = 1.000000000\n",
      "Epoch 22, CIFAR-10 Batch 5:  cost = 0.077882700 accuracy = 1.000000000\n",
      "Epoch 23, CIFAR-10 Batch 1:  cost = 0.200585559 accuracy = 0.975000024\n",
      "Epoch 23, CIFAR-10 Batch 2:  cost = 0.060384747 accuracy = 1.000000000\n",
      "Epoch 23, CIFAR-10 Batch 3:  cost = 0.065867305 accuracy = 1.000000000\n",
      "Epoch 23, CIFAR-10 Batch 4:  cost = 0.094459102 accuracy = 1.000000000\n",
      "Epoch 23, CIFAR-10 Batch 5:  cost = 0.060991656 accuracy = 1.000000000\n",
      "Epoch 24, CIFAR-10 Batch 1:  cost = 0.178257316 accuracy = 0.975000024\n",
      "Epoch 24, CIFAR-10 Batch 2:  cost = 0.058867440 accuracy = 1.000000000\n",
      "Epoch 24, CIFAR-10 Batch 3:  cost = 0.060554687 accuracy = 1.000000000\n",
      "Epoch 24, CIFAR-10 Batch 4:  cost = 0.085377321 accuracy = 1.000000000\n",
      "Epoch 24, CIFAR-10 Batch 5:  cost = 0.073821038 accuracy = 1.000000000\n",
      "Epoch 25, CIFAR-10 Batch 1:  cost = 0.182060450 accuracy = 0.975000024\n",
      "Epoch 25, CIFAR-10 Batch 2:  cost = 0.054016050 accuracy = 1.000000000\n",
      "Epoch 25, CIFAR-10 Batch 3:  cost = 0.064964049 accuracy = 1.000000000\n",
      "Epoch 25, CIFAR-10 Batch 4:  cost = 0.077143930 accuracy = 1.000000000\n",
      "Epoch 25, CIFAR-10 Batch 5:  cost = 0.061615076 accuracy = 1.000000000\n",
      "Epoch 26, CIFAR-10 Batch 1:  cost = 0.170858115 accuracy = 0.975000024\n",
      "Epoch 26, CIFAR-10 Batch 2:  cost = 0.047741987 accuracy = 1.000000000\n",
      "Epoch 26, CIFAR-10 Batch 3:  cost = 0.062320359 accuracy = 1.000000000\n",
      "Epoch 26, CIFAR-10 Batch 4:  cost = 0.080390260 accuracy = 1.000000000\n",
      "Epoch 26, CIFAR-10 Batch 5:  cost = 0.063577056 accuracy = 1.000000000\n",
      "Epoch 27, CIFAR-10 Batch 1:  cost = 0.172908783 accuracy = 0.975000024\n",
      "Epoch 27, CIFAR-10 Batch 2:  cost = 0.046568986 accuracy = 1.000000000\n",
      "Epoch 27, CIFAR-10 Batch 3:  cost = 0.056984939 accuracy = 1.000000000\n",
      "Epoch 27, CIFAR-10 Batch 4:  cost = 0.083369344 accuracy = 1.000000000\n",
      "Epoch 27, CIFAR-10 Batch 5:  cost = 0.050470557 accuracy = 1.000000000\n",
      "Epoch 28, CIFAR-10 Batch 1:  cost = 0.145944625 accuracy = 0.975000024\n",
      "Epoch 28, CIFAR-10 Batch 2:  cost = 0.040731721 accuracy = 1.000000000\n",
      "Epoch 28, CIFAR-10 Batch 3:  cost = 0.053691305 accuracy = 1.000000000\n",
      "Epoch 28, CIFAR-10 Batch 4:  cost = 0.072957493 accuracy = 1.000000000\n",
      "Epoch 28, CIFAR-10 Batch 5:  cost = 0.053381562 accuracy = 1.000000000\n",
      "Epoch 29, CIFAR-10 Batch 1:  cost = 0.141737550 accuracy = 0.975000024\n",
      "Epoch 29, CIFAR-10 Batch 2:  cost = 0.047078270 accuracy = 1.000000000\n",
      "Epoch 29, CIFAR-10 Batch 3:  cost = 0.049902476 accuracy = 1.000000000\n",
      "Epoch 29, CIFAR-10 Batch 4:  cost = 0.058151510 accuracy = 1.000000000\n",
      "Epoch 29, CIFAR-10 Batch 5:  cost = 0.044309124 accuracy = 1.000000000\n",
      "Epoch 30, CIFAR-10 Batch 1:  cost = 0.159936950 accuracy = 0.975000024\n",
      "Epoch 30, CIFAR-10 Batch 2:  cost = 0.038612004 accuracy = 1.000000000\n",
      "Epoch 30, CIFAR-10 Batch 3:  cost = 0.057065714 accuracy = 1.000000000\n",
      "Epoch 30, CIFAR-10 Batch 4:  cost = 0.050433557 accuracy = 1.000000000\n",
      "Epoch 30, CIFAR-10 Batch 5:  cost = 0.037493639 accuracy = 1.000000000\n",
      "Epoch 31, CIFAR-10 Batch 1:  cost = 0.156497985 accuracy = 0.975000024\n",
      "Epoch 31, CIFAR-10 Batch 2:  cost = 0.033522852 accuracy = 1.000000000\n",
      "Epoch 31, CIFAR-10 Batch 3:  cost = 0.044887617 accuracy = 1.000000000\n",
      "Epoch 31, CIFAR-10 Batch 4:  cost = 0.050081179 accuracy = 1.000000000\n",
      "Epoch 31, CIFAR-10 Batch 5:  cost = 0.029775383 accuracy = 1.000000000\n",
      "Epoch 32, CIFAR-10 Batch 1:  cost = 0.136396542 accuracy = 0.975000024\n",
      "Epoch 32, CIFAR-10 Batch 2:  cost = 0.039130051 accuracy = 1.000000000\n",
      "Epoch 32, CIFAR-10 Batch 3:  cost = 0.040275544 accuracy = 1.000000000\n",
      "Epoch 32, CIFAR-10 Batch 4:  cost = 0.050902151 accuracy = 1.000000000\n",
      "Epoch 32, CIFAR-10 Batch 5:  cost = 0.030459289 accuracy = 1.000000000\n",
      "Epoch 33, CIFAR-10 Batch 1:  cost = 0.129815221 accuracy = 0.975000024\n",
      "Epoch 33, CIFAR-10 Batch 2:  cost = 0.034943108 accuracy = 1.000000000\n",
      "Epoch 33, CIFAR-10 Batch 3:  cost = 0.042287380 accuracy = 1.000000000\n",
      "Epoch 33, CIFAR-10 Batch 4:  cost = 0.047876175 accuracy = 1.000000000\n",
      "Epoch 33, CIFAR-10 Batch 5:  cost = 0.025418332 accuracy = 1.000000000\n",
      "Epoch 34, CIFAR-10 Batch 1:  cost = 0.119696759 accuracy = 0.975000024\n",
      "Epoch 34, CIFAR-10 Batch 2:  cost = 0.030214390 accuracy = 1.000000000\n",
      "Epoch 34, CIFAR-10 Batch 3:  cost = 0.040322863 accuracy = 1.000000000\n",
      "Epoch 34, CIFAR-10 Batch 4:  cost = 0.046352416 accuracy = 1.000000000\n",
      "Epoch 34, CIFAR-10 Batch 5:  cost = 0.022851219 accuracy = 1.000000000\n",
      "Epoch 35, CIFAR-10 Batch 1:  cost = 0.114304118 accuracy = 0.975000024\n",
      "Epoch 35, CIFAR-10 Batch 2:  cost = 0.028896801 accuracy = 1.000000000\n",
      "Epoch 35, CIFAR-10 Batch 3:  cost = 0.032557495 accuracy = 1.000000000\n",
      "Epoch 35, CIFAR-10 Batch 4:  cost = 0.041194923 accuracy = 1.000000000\n",
      "Epoch 35, CIFAR-10 Batch 5:  cost = 0.026488325 accuracy = 1.000000000\n",
      "Epoch 36, CIFAR-10 Batch 1:  cost = 0.111331239 accuracy = 0.975000024\n",
      "Epoch 36, CIFAR-10 Batch 2:  cost = 0.023371382 accuracy = 1.000000000\n",
      "Epoch 36, CIFAR-10 Batch 3:  cost = 0.034003947 accuracy = 1.000000000\n",
      "Epoch 36, CIFAR-10 Batch 4:  cost = 0.048310839 accuracy = 1.000000000\n",
      "Epoch 36, CIFAR-10 Batch 5:  cost = 0.028323816 accuracy = 1.000000000\n",
      "Epoch 37, CIFAR-10 Batch 1:  cost = 0.098247200 accuracy = 0.975000024\n",
      "Epoch 37, CIFAR-10 Batch 2:  cost = 0.026067704 accuracy = 1.000000000\n",
      "Epoch 37, CIFAR-10 Batch 3:  cost = 0.031855322 accuracy = 1.000000000\n",
      "Epoch 37, CIFAR-10 Batch 4:  cost = 0.039003804 accuracy = 1.000000000\n",
      "Epoch 37, CIFAR-10 Batch 5:  cost = 0.024435943 accuracy = 1.000000000\n",
      "Epoch 38, CIFAR-10 Batch 1:  cost = 0.103324383 accuracy = 0.975000024\n",
      "Epoch 38, CIFAR-10 Batch 2:  cost = 0.022456860 accuracy = 1.000000000\n",
      "Epoch 38, CIFAR-10 Batch 3:  cost = 0.025008181 accuracy = 1.000000000\n",
      "Epoch 38, CIFAR-10 Batch 4:  cost = 0.026214451 accuracy = 1.000000000\n",
      "Epoch 38, CIFAR-10 Batch 5:  cost = 0.020775778 accuracy = 1.000000000\n",
      "Epoch 39, CIFAR-10 Batch 1:  cost = 0.092648998 accuracy = 0.975000024\n",
      "Epoch 39, CIFAR-10 Batch 2:  cost = 0.015967203 accuracy = 1.000000000\n",
      "Epoch 39, CIFAR-10 Batch 3:  cost = 0.036965169 accuracy = 1.000000000\n",
      "Epoch 39, CIFAR-10 Batch 4:  cost = 0.031287853 accuracy = 1.000000000\n",
      "Epoch 39, CIFAR-10 Batch 5:  cost = 0.017853752 accuracy = 1.000000000\n",
      "Epoch 40, CIFAR-10 Batch 1:  cost = 0.089408509 accuracy = 0.975000024\n",
      "Epoch 40, CIFAR-10 Batch 2:  cost = 0.016995715 accuracy = 1.000000000\n",
      "Epoch 40, CIFAR-10 Batch 3:  cost = 0.023861608 accuracy = 1.000000000\n",
      "Epoch 40, CIFAR-10 Batch 4:  cost = 0.028632898 accuracy = 1.000000000\n",
      "Epoch 40, CIFAR-10 Batch 5:  cost = 0.023958683 accuracy = 1.000000000\n",
      "Epoch 41, CIFAR-10 Batch 1:  cost = 0.089819245 accuracy = 0.975000024\n",
      "Epoch 41, CIFAR-10 Batch 2:  cost = 0.022254175 accuracy = 1.000000000\n",
      "Epoch 41, CIFAR-10 Batch 3:  cost = 0.021151610 accuracy = 1.000000000\n",
      "Epoch 41, CIFAR-10 Batch 4:  cost = 0.044171777 accuracy = 1.000000000\n",
      "Epoch 41, CIFAR-10 Batch 5:  cost = 0.022983618 accuracy = 1.000000000\n",
      "Epoch 42, CIFAR-10 Batch 1:  cost = 0.097075030 accuracy = 0.975000024\n",
      "Epoch 42, CIFAR-10 Batch 2:  cost = 0.021265702 accuracy = 1.000000000\n",
      "Epoch 42, CIFAR-10 Batch 3:  cost = 0.016337432 accuracy = 1.000000000\n",
      "Epoch 42, CIFAR-10 Batch 4:  cost = 0.024235867 accuracy = 1.000000000\n",
      "Epoch 42, CIFAR-10 Batch 5:  cost = 0.014985334 accuracy = 1.000000000\n",
      "Epoch 43, CIFAR-10 Batch 1:  cost = 0.098238498 accuracy = 0.975000024\n",
      "Epoch 43, CIFAR-10 Batch 2:  cost = 0.016278110 accuracy = 1.000000000\n",
      "Epoch 43, CIFAR-10 Batch 3:  cost = 0.018552050 accuracy = 1.000000000\n",
      "Epoch 43, CIFAR-10 Batch 4:  cost = 0.027769603 accuracy = 1.000000000\n",
      "Epoch 43, CIFAR-10 Batch 5:  cost = 0.017772119 accuracy = 1.000000000\n",
      "Epoch 44, CIFAR-10 Batch 1:  cost = 0.086935431 accuracy = 0.975000024\n",
      "Epoch 44, CIFAR-10 Batch 2:  cost = 0.010636167 accuracy = 1.000000000\n",
      "Epoch 44, CIFAR-10 Batch 3:  cost = 0.019466637 accuracy = 1.000000000\n",
      "Epoch 44, CIFAR-10 Batch 4:  cost = 0.024657674 accuracy = 1.000000000\n",
      "Epoch 44, CIFAR-10 Batch 5:  cost = 0.021843314 accuracy = 1.000000000\n",
      "Epoch 45, CIFAR-10 Batch 1:  cost = 0.088219851 accuracy = 0.975000024\n",
      "Epoch 45, CIFAR-10 Batch 2:  cost = 0.009250372 accuracy = 1.000000000\n",
      "Epoch 45, CIFAR-10 Batch 3:  cost = 0.016296601 accuracy = 1.000000000\n",
      "Epoch 45, CIFAR-10 Batch 4:  cost = 0.021414261 accuracy = 1.000000000\n",
      "Epoch 45, CIFAR-10 Batch 5:  cost = 0.023237424 accuracy = 1.000000000\n",
      "Epoch 46, CIFAR-10 Batch 1:  cost = 0.095654361 accuracy = 0.975000024\n",
      "Epoch 46, CIFAR-10 Batch 2:  cost = 0.011715109 accuracy = 1.000000000\n",
      "Epoch 46, CIFAR-10 Batch 3:  cost = 0.020880558 accuracy = 1.000000000\n",
      "Epoch 46, CIFAR-10 Batch 4:  cost = 0.030745178 accuracy = 1.000000000\n",
      "Epoch 46, CIFAR-10 Batch 5:  cost = 0.014462192 accuracy = 1.000000000\n",
      "Epoch 47, CIFAR-10 Batch 1:  cost = 0.089017078 accuracy = 0.975000024\n",
      "Epoch 47, CIFAR-10 Batch 2:  cost = 0.009391353 accuracy = 1.000000000\n",
      "Epoch 47, CIFAR-10 Batch 3:  cost = 0.015307778 accuracy = 1.000000000\n",
      "Epoch 47, CIFAR-10 Batch 4:  cost = 0.020153549 accuracy = 1.000000000\n",
      "Epoch 47, CIFAR-10 Batch 5:  cost = 0.011848394 accuracy = 1.000000000\n",
      "Epoch 48, CIFAR-10 Batch 1:  cost = 0.085183524 accuracy = 0.975000024\n",
      "Epoch 48, CIFAR-10 Batch 2:  cost = 0.012663560 accuracy = 1.000000000\n",
      "Epoch 48, CIFAR-10 Batch 3:  cost = 0.013277962 accuracy = 1.000000000\n",
      "Epoch 48, CIFAR-10 Batch 4:  cost = 0.016458353 accuracy = 1.000000000\n",
      "Epoch 48, CIFAR-10 Batch 5:  cost = 0.011664222 accuracy = 1.000000000\n",
      "Epoch 49, CIFAR-10 Batch 1:  cost = 0.076263472 accuracy = 0.975000024\n",
      "Epoch 49, CIFAR-10 Batch 2:  cost = 0.011481664 accuracy = 1.000000000\n",
      "Epoch 49, CIFAR-10 Batch 3:  cost = 0.011314858 accuracy = 1.000000000\n",
      "Epoch 49, CIFAR-10 Batch 4:  cost = 0.021393659 accuracy = 1.000000000\n",
      "Epoch 49, CIFAR-10 Batch 5:  cost = 0.011744474 accuracy = 1.000000000\n",
      "Epoch 50, CIFAR-10 Batch 1:  cost = 0.073530212 accuracy = 0.975000024\n",
      "Epoch 50, CIFAR-10 Batch 2:  cost = 0.011844989 accuracy = 1.000000000\n",
      "Epoch 50, CIFAR-10 Batch 3:  cost = 0.011553094 accuracy = 1.000000000\n",
      "Epoch 50, CIFAR-10 Batch 4:  cost = 0.018782124 accuracy = 1.000000000\n",
      "Epoch 50, CIFAR-10 Batch 5:  cost = 0.010791377 accuracy = 1.000000000\n"
     ]
    }
   ],
   "source": [
    "\"\"\"\n",
    "DON'T MODIFY ANYTHING IN THIS CELL\n",
    "\"\"\"\n",
    "save_model_path = './image_classification'\n",
    "\n",
    "print('Training...')\n",
    "with tf.Session() as sess:\n",
    "    # Initializing the variables\n",
    "    sess.run(tf.global_variables_initializer())\n",
    "    \n",
    "    # Training cycle\n",
    "    for epoch in range(epochs):\n",
    "        # Loop over all batches\n",
    "        n_batches = 5\n",
    "        for batch_i in range(1, n_batches + 1):\n",
    "            for batch_features, batch_labels in helper.load_preprocess_training_batch(batch_i, batch_size):\n",
    "                train_neural_network(sess, optimizer, keep_probability, batch_features, batch_labels)\n",
    "            print('Epoch {:>2}, CIFAR-10 Batch {}:  '.format(epoch + 1, batch_i), end='')\n",
    "            print_stats(sess, batch_features, batch_labels, cost, accuracy)\n",
    "            \n",
    "    # Save Model\n",
    "    saver = tf.train.Saver()\n",
    "    save_path = saver.save(sess, save_model_path)"
   ]
  },
  {
   "cell_type": "markdown",
   "metadata": {},
   "source": [
    "# Checkpoint\n",
    "The model has been saved to disk.\n",
    "## Test Model\n",
    "Test your model against the test dataset.  This will be your final accuracy. You should have an accuracy greater than 50%. If you don't, keep tweaking the model architecture and parameters."
   ]
  },
  {
   "cell_type": "code",
   "execution_count": 165,
   "metadata": {
    "collapsed": false
   },
   "outputs": [
    {
     "name": "stdout",
     "output_type": "stream",
     "text": [
      "Testing Accuracy: 0.5685546875\n",
      "\n"
     ]
    },
    {
     "data": {
      "image/png": "[encoded data removed]",
      "text/plain": [
       "<matplotlib.figure.Figure at 0x7f64fe4dca58>"
      ]
     },
     "metadata": {
      "image/png": {
       "height": 319,
       "width": 355
      }
     },
     "output_type": "display_data"
    }
   ],
   "source": [
    "\"\"\"\n",
    "DON'T MODIFY ANYTHING IN THIS CELL\n",
    "\"\"\"\n",
    "%matplotlib inline\n",
    "%config InlineBackend.figure_format = 'retina'\n",
    "\n",
    "import tensorflow as tf\n",
    "import pickle\n",
    "import helper\n",
    "import random\n",
    "\n",
    "# Set batch size if not already set\n",
    "try:\n",
    "    if batch_size:\n",
    "        pass\n",
    "except NameError:\n",
    "    batch_size = 64\n",
    "\n",
    "save_model_path = './image_classification'\n",
    "n_samples = 4\n",
    "top_n_predictions = 3\n",
    "\n",
    "def test_model():\n",
    "    \"\"\"\n",
    "    Test the saved model against the test dataset\n",
    "    \"\"\"\n",
    "\n",
    "    test_features, test_labels = pickle.load(open('preprocess_training.p', mode='rb'))\n",
    "    loaded_graph = tf.Graph()\n",
    "\n",
    "    with tf.Session(graph=loaded_graph) as sess:\n",
    "        # Load model\n",
    "        loader = tf.train.import_meta_graph(save_model_path + '.meta')\n",
    "        loader.restore(sess, save_model_path)\n",
    "\n",
    "        # Get Tensors from loaded model\n",
    "        loaded_x = loaded_graph.get_tensor_by_name('x:0')\n",
    "        loaded_y = loaded_graph.get_tensor_by_name('y:0')\n",
    "        loaded_keep_prob = loaded_graph.get_tensor_by_name('keep_prob:0')\n",
    "        loaded_logits = loaded_graph.get_tensor_by_name('logits:0')\n",
    "        loaded_acc = loaded_graph.get_tensor_by_name('accuracy:0')\n",
    "        \n",
    "        # Get accuracy in batches for memory limitations\n",
    "        test_batch_acc_total = 0\n",
    "        test_batch_count = 0\n",
    "        \n",
    "        for train_feature_batch, train_label_batch in helper.batch_features_labels(test_features, test_labels, batch_size):\n",
    "            test_batch_acc_total += sess.run(\n",
    "                loaded_acc,\n",
    "                feed_dict={loaded_x: train_feature_batch, loaded_y: train_label_batch, loaded_keep_prob: 1.0})\n",
    "            test_batch_count += 1\n",
    "\n",
    "        print('Testing Accuracy: {}\\n'.format(test_batch_acc_total/test_batch_count))\n",
    "\n",
    "        # Print Random Samples\n",
    "        random_test_features, random_test_labels = tuple(zip(*random.sample(list(zip(test_features, test_labels)), n_samples)))\n",
    "        random_test_predictions = sess.run(\n",
    "            tf.nn.top_k(tf.nn.softmax(loaded_logits), top_n_predictions),\n",
    "            feed_dict={loaded_x: random_test_features, loaded_y: random_test_labels, loaded_keep_prob: 1.0})\n",
    "        helper.display_image_predictions(random_test_features, random_test_labels, random_test_predictions)\n",
    "\n",
    "\n",
    "test_model()"
   ]
  },
  {
   "cell_type": "markdown",
   "metadata": {},
   "source": [
    "## Why 50-70% Accuracy?\n",
    "You might be wondering why you can't get an accuracy any higher. First things first, 50% isn't bad for a simple CNN.  Pure guessing would get you 10% accuracy. However, you might notice people are getting scores [well above 70%](http://rodrigob.github.io/are_we_there_yet/build/classification_datasets_results.html#43494641522d3130).  That's because we haven't taught you all there is to know about neural networks. We still need to cover a few more techniques.\n",
    "## Submitting This Project\n",
    "When submitting this project, make sure to run all the cells before saving the notebook.  Save the notebook file as \"dlnd_image_classification.ipynb\" and save it as a HTML file under \"File\" -> \"Download as\".  Include the \"helper.py\" and \"problem_unittests.py\" files in your submission."
   ]
  }
 ],
 "metadata": {
  "kernelspec": {
   "display_name": "Python 3",
   "language": "python",
   "name": "python3"
  },
  "language_info": {
   "codemirror_mode": {
    "name": "ipython",
    "version": 3
   },
   "file_extension": ".py",
   "mimetype": "text/x-python",
   "name": "python",
   "nbconvert_exporter": "python",
   "pygments_lexer": "ipython3",
   "version": "3.6.0"
  }
 },
 "nbformat": 4,
 "nbformat_minor": 0
}
