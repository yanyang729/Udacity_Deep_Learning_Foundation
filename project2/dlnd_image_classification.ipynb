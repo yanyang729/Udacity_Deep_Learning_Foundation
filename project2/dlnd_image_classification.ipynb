{
 "cells": [
  {
   "cell_type": "markdown",
   "metadata": {
    "collapsed": true
   },
   "source": [
    "# Image Classification\n",
    "In this project, you'll classify images from the [CIFAR-10 dataset](https://www.cs.toronto.edu/~kriz/cifar.html).  The dataset consists of airplanes, dogs, cats, and other objects. You'll preprocess the images, then train a convolutional neural network on all the samples. The images need to be normalized and the labels need to be one-hot encoded.  You'll get to apply what you learned and build a convolutional, max pooling, dropout, and fully connected layers.  At the end, you'll get to see your neural network's predictions on the sample images.\n",
    "## Get the Data\n",
    "Run the following cell to download the [CIFAR-10 dataset for python](https://www.cs.toronto.edu/~kriz/cifar-10-python.tar.gz)."
   ]
  },
  {
   "cell_type": "code",
   "execution_count": 3,
   "metadata": {
    "collapsed": false
   },
   "outputs": [
    {
     "name": "stdout",
     "output_type": "stream",
     "text": [
      "All files found!\n"
     ]
    }
   ],
   "source": [
    "\"\"\"\n",
    "DON'T MODIFY ANYTHING IN THIS CELL THAT IS BELOW THIS LINE\n",
    "\"\"\"\n",
    "from urllib.request import urlretrieve\n",
    "from os.path import isfile, isdir\n",
    "from tqdm import tqdm\n",
    "import problem_unittests as tests\n",
    "import tarfile\n",
    "\n",
    "cifar10_dataset_folder_path = 'cifar-10-batches-py'\n",
    "\n",
    "class DLProgress(tqdm):\n",
    "    last_block = 0\n",
    "\n",
    "    def hook(self, block_num=1, block_size=1, total_size=None):\n",
    "        self.total = total_size\n",
    "        self.update((block_num - self.last_block) * block_size)\n",
    "        self.last_block = block_num\n",
    "\n",
    "if not isfile('cifar-10-python.tar.gz'):\n",
    "    with DLProgress(unit='B', unit_scale=True, miniters=1, desc='CIFAR-10 Dataset') as pbar:\n",
    "        urlretrieve(\n",
    "            'https://www.cs.toronto.edu/~kriz/cifar-10-python.tar.gz',\n",
    "            'cifar-10-python.tar.gz',\n",
    "            pbar.hook)\n",
    "\n",
    "if not isdir(cifar10_dataset_folder_path):\n",
    "    with tarfile.open('cifar-10-python.tar.gz') as tar:\n",
    "        tar.extractall()\n",
    "        tar.close()\n",
    "\n",
    "\n",
    "tests.test_folder_path(cifar10_dataset_folder_path)"
   ]
  },
  {
   "cell_type": "markdown",
   "metadata": {},
   "source": [
    "## Explore the Data\n",
    "The dataset is broken into batches to prevent your machine from running out of memory.  The CIFAR-10 dataset consists of 5 batches, named `data_batch_1`, `data_batch_2`, etc.. Each batch contains the labels and images that are one of the following:\n",
    "* airplane\n",
    "* automobile\n",
    "* bird\n",
    "* cat\n",
    "* deer\n",
    "* dog\n",
    "* frog\n",
    "* horse\n",
    "* ship\n",
    "* truck\n",
    "\n",
    "Understanding a dataset is part of making predictions on the data.  Play around with the code cell below by changing the `batch_id` and `sample_id`. The `batch_id` is the id for a batch (1-5). The `sample_id` is the id for a image and label pair in the batch.\n",
    "\n",
    "Ask yourself \"What are all possible labels?\", \"What is the range of values for the image data?\", \"Are the labels in order or random?\".  Answers to questions like these will help you preprocess the data and end up with better predictions."
   ]
  },
  {
   "cell_type": "code",
   "execution_count": 5,
   "metadata": {
    "collapsed": false
   },
   "outputs": [
    {
     "name": "stdout",
     "output_type": "stream",
     "text": [
      "\n",
      "Stats of batch 1:\n",
      "Samples: 10000\n",
      "Label Counts: {0: 1005, 1: 974, 2: 1032, 3: 1016, 4: 999, 5: 937, 6: 1030, 7: 1001, 8: 1025, 9: 981}\n",
      "First 20 Labels: [6, 9, 9, 4, 1, 1, 2, 7, 8, 3, 4, 7, 7, 2, 9, 9, 9, 3, 2, 6]\n",
      "\n",
      "Example of Image 3:\n",
      "Image - Min Value: 4 Max Value: 234\n",
      "Image - Shape: (32, 32, 3)\n",
      "Label - Label Id: 4 Name: deer\n"
     ]
    },
    {
     "data": {
      "image/png": "[encoded data removed]",
      "text/plain": [
       "<matplotlib.figure.Figure at 0x7fe3de691278>"
      ]
     },
     "metadata": {
      "image/png": {
       "height": 250,
       "width": 253
      }
     },
     "output_type": "display_data"
    }
   ],
   "source": [
    "%matplotlib inline\n",
    "%config InlineBackend.figure_format = 'retina'\n",
    "\n",
    "import helper\n",
    "import numpy as np\n",
    "\n",
    "# Explore the dataset\n",
    "batch_id = 1\n",
    "sample_id = 3\n",
    "helper.display_stats(cifar10_dataset_folder_path, batch_id, sample_id)"
   ]
  },
  {
   "cell_type": "markdown",
   "metadata": {},
   "source": [
    "## Implement Preprocess Functions\n",
    "### Normalize\n",
    "In the cell below, implement the `normalize` function to take in image data, `x`, and return it as a normalized Numpy array. The values should be in the range of 0 to 1, inclusive.  The return object should be the same shape as `x`."
   ]
  },
  {
   "cell_type": "code",
   "execution_count": 6,
   "metadata": {
    "collapsed": false
   },
   "outputs": [
    {
     "name": "stdout",
     "output_type": "stream",
     "text": [
      "Tests Passed\n"
     ]
    }
   ],
   "source": [
    "def normalize(x):\n",
    "    \"\"\"\n",
    "    Normalize a list of sample image data in the range of 0 to 1\n",
    "    : x: List of image data.  The image shape is (32, 32, 3)\n",
    "    : return: Numpy array of normalize data\n",
    "    \"\"\"\n",
    "    # TODO: Implement Function\n",
    "    img = np.asarray(x)\n",
    "    img = (img - np.min(img))/(np.max(img)-np.min(img))\n",
    "    \n",
    "    return img\n",
    "\n",
    "\n",
    "\"\"\"\n",
    "DON'T MODIFY ANYTHING IN THIS CELL THAT IS BELOW THIS LINE\n",
    "\"\"\"\n",
    "tests.test_normalize(normalize)"
   ]
  },
  {
   "cell_type": "markdown",
   "metadata": {},
   "source": [
    "### One-hot encode\n",
    "Just like the previous code cell, you'll be implementing a function for preprocessing.  This time, you'll implement the `one_hot_encode` function. The input, `x`, are a list of labels.  Implement the function to return the list of labels as One-Hot encoded Numpy array.  The possible values for labels are 0 to 9. The one-hot encoding function should return the same encoding for each value between each call to `one_hot_encode`.  Make sure to save the map of encodings outside the function.\n",
    "\n",
    "Hint: Don't reinvent the wheel."
   ]
  },
  {
   "cell_type": "code",
   "execution_count": 8,
   "metadata": {
    "collapsed": false
   },
   "outputs": [
    {
     "name": "stdout",
     "output_type": "stream",
     "text": [
      "Tests Passed\n"
     ]
    }
   ],
   "source": [
    "from sklearn.preprocessing import LabelBinarizer\n",
    "def one_hot_encode(x):\n",
    "    \"\"\"\n",
    "    One hot encode a list of sample labels. Return a one-hot encoded vector for each label.\n",
    "    : x: List of sample Labels\n",
    "    : return: Numpy array of one-hot encoded labels\n",
    "    \"\"\"\n",
    "    # TODO: Implement Function\n",
    "    lb = LabelBinarizer()\n",
    "    lb.fit(range(10))\n",
    "    return lb.transform(x)\n",
    "\n",
    "\n",
    "\"\"\"\n",
    "DON'T MODIFY ANYTHING IN THIS CELL THAT IS BELOW THIS LINE\n",
    "\"\"\"\n",
    "tests.test_one_hot_encode(one_hot_encode)"
   ]
  },
  {
   "cell_type": "markdown",
   "metadata": {},
   "source": [
    "### Randomize Data\n",
    "As you saw from exploring the data above, the order of the samples are randomized.  It doesn't hurt to randomize it again, but you don't need to for this dataset."
   ]
  },
  {
   "cell_type": "markdown",
   "metadata": {},
   "source": [
    "## Preprocess all the data and save it\n",
    "Running the code cell below will preprocess all the CIFAR-10 data and save it to file. The code below also uses 10% of the training data for validation."
   ]
  },
  {
   "cell_type": "code",
   "execution_count": 9,
   "metadata": {
    "collapsed": false
   },
   "outputs": [],
   "source": [
    "\"\"\"\n",
    "DON'T MODIFY ANYTHING IN THIS CELL\n",
    "\"\"\"\n",
    "# Preprocess Training, Validation, and Testing Data\n",
    "helper.preprocess_and_save_data(cifar10_dataset_folder_path, normalize, one_hot_encode)"
   ]
  },
  {
   "cell_type": "markdown",
   "metadata": {},
   "source": [
    "# Check Point\n",
    "This is your first checkpoint.  If you ever decide to come back to this notebook or have to restart the notebook, you can start from here.  The preprocessed data has been saved to disk."
   ]
  },
  {
   "cell_type": "code",
   "execution_count": 10,
   "metadata": {
    "collapsed": true
   },
   "outputs": [],
   "source": [
    "\"\"\"\n",
    "DON'T MODIFY ANYTHING IN THIS CELL\n",
    "\"\"\"\n",
    "import pickle\n",
    "import problem_unittests as tests\n",
    "import helper\n",
    "\n",
    "# Load the Preprocessed Validation data\n",
    "valid_features, valid_labels = pickle.load(open('preprocess_validation.p', mode='rb'))"
   ]
  },
  {
   "cell_type": "markdown",
   "metadata": {},
   "source": [
    "## Build the network\n",
    "For the neural network, you'll build each layer into a function.  Most of the code you've seen has been outside of functions. To test your code more thoroughly, we require that you put each layer in a function.  This allows us to give you better feedback and test for simple mistakes using our unittests before you submit your project.\n",
    "\n",
    ">**Note:** If you're finding it hard to dedicate enough time for this course each week, we've provided a small shortcut to this part of the project. In the next couple of problems, you'll have the option to use classes from the [TensorFlow Layers](https://www.tensorflow.org/api_docs/python/tf/layers) or [TensorFlow Layers (contrib)](https://www.tensorflow.org/api_guides/python/contrib.layers) packages to build each layer, except the layers you build in the \"Convolutional and Max Pooling Layer\" section.  TF Layers is similar to Keras's and TFLearn's abstraction to layers, so it's easy to pickup.\n",
    "\n",
    ">However, if you would like to get the most out of this course, try to solve all the problems _without_ using anything from the TF Layers packages. You **can** still use classes from other packages that happen to have the same name as ones you find in TF Layers! For example, instead of using the TF Layers version of the `conv2d` class, [tf.layers.conv2d](https://www.tensorflow.org/api_docs/python/tf/layers/conv2d), you would want to use the TF Neural Network version of `conv2d`, [tf.nn.conv2d](https://www.tensorflow.org/api_docs/python/tf/nn/conv2d). \n",
    "\n",
    "Let's begin!\n",
    "\n",
    "### Input\n",
    "The neural network needs to read the image data, one-hot encoded labels, and dropout keep probability. Implement the following functions\n",
    "* Implement `neural_net_image_input`\n",
    " * Return a [TF Placeholder](https://www.tensorflow.org/api_docs/python/tf/placeholder)\n",
    " * Set the shape using `image_shape` with batch size set to `None`.\n",
    " * Name the TensorFlow placeholder \"x\" using the TensorFlow `name` parameter in the [TF Placeholder](https://www.tensorflow.org/api_docs/python/tf/placeholder).\n",
    "* Implement `neural_net_label_input`\n",
    " * Return a [TF Placeholder](https://www.tensorflow.org/api_docs/python/tf/placeholder)\n",
    " * Set the shape using `n_classes` with batch size set to `None`.\n",
    " * Name the TensorFlow placeholder \"y\" using the TensorFlow `name` parameter in the [TF Placeholder](https://www.tensorflow.org/api_docs/python/tf/placeholder).\n",
    "* Implement `neural_net_keep_prob_input`\n",
    " * Return a [TF Placeholder](https://www.tensorflow.org/api_docs/python/tf/placeholder) for dropout keep probability.\n",
    " * Name the TensorFlow placeholder \"keep_prob\" using the TensorFlow `name` parameter in the [TF Placeholder](https://www.tensorflow.org/api_docs/python/tf/placeholder).\n",
    "\n",
    "These names will be used at the end of the project to load your saved model.\n",
    "\n",
    "Note: `None` for shapes in TensorFlow allow for a dynamic size."
   ]
  },
  {
   "cell_type": "code",
   "execution_count": 11,
   "metadata": {
    "collapsed": false
   },
   "outputs": [
    {
     "name": "stdout",
     "output_type": "stream",
     "text": [
      "Image Input Tests Passed.\n",
      "Label Input Tests Passed.\n",
      "Keep Prob Tests Passed.\n"
     ]
    }
   ],
   "source": [
    "import tensorflow as tf\n",
    "\n",
    "def neural_net_image_input(image_shape):\n",
    "    \"\"\"\n",
    "    Return a Tensor for a bach of image input\n",
    "    : image_shape: Shape of the images\n",
    "    : return: Tensor for image input.\n",
    "    \"\"\"\n",
    "    # TODO: Implement Function\n",
    "    x = tf.placeholder('float',[None, image_shape[0], image_shape[1], image_shape[2]],'x')\n",
    "    \n",
    "    return x\n",
    "\n",
    "\n",
    "def neural_net_label_input(n_classes):\n",
    "    \"\"\"\n",
    "    Return a Tensor for a batch of label input\n",
    "    : n_classes: Number of classes\n",
    "    : return: Tensor for label input.\n",
    "    \"\"\"\n",
    "    # TODO: Implement Function\n",
    "    return tf.placeholder('float',[None,n_classes],'y')\n",
    "\n",
    "\n",
    "def neural_net_keep_prob_input():\n",
    "    \"\"\"\n",
    "    Return a Tensor for keep probability\n",
    "    : return: Tensor for keep probability.\n",
    "    \"\"\"\n",
    "    # TODO: Implement Function\n",
    "    prob = tf.placeholder('float',None,'keep_prob')\n",
    "    return prob\n",
    "\n",
    "\n",
    "\"\"\"\n",
    "DON'T MODIFY ANYTHING IN THIS CELL THAT IS BELOW THIS LINE\n",
    "\"\"\"\n",
    "tf.reset_default_graph()\n",
    "tests.test_nn_image_inputs(neural_net_image_input)\n",
    "tests.test_nn_label_inputs(neural_net_label_input)\n",
    "tests.test_nn_keep_prob_inputs(neural_net_keep_prob_input)"
   ]
  },
  {
   "cell_type": "markdown",
   "metadata": {},
   "source": [
    "### Convolution and Max Pooling Layer\n",
    "Convolution layers have a lot of success with images. For this code cell, you should implement the function `conv2d_maxpool` to apply convolution then max pooling:\n",
    "* Create the weight and bias using `conv_ksize`, `conv_num_outputs` and the shape of `x_tensor`.\n",
    "* Apply a convolution to `x_tensor` using weight and `conv_strides`.\n",
    " * We recommend you use same padding, but you're welcome to use any padding.\n",
    "* Add bias\n",
    "* Add a nonlinear activation to the convolution.\n",
    "* Apply Max Pooling using `pool_ksize` and `pool_strides`.\n",
    " * We recommend you use same padding, but you're welcome to use any padding.\n",
    "\n",
    "**Note:** You **can't** use [TensorFlow Layers](https://www.tensorflow.org/api_docs/python/tf/layers) or [TensorFlow Layers (contrib)](https://www.tensorflow.org/api_guides/python/contrib.layers) for **this** layer, but you can still use TensorFlow's [Neural Network](https://www.tensorflow.org/api_docs/python/tf/nn) package. You may still use the shortcut option for all the **other** layers."
   ]
  },
  {
   "cell_type": "code",
   "execution_count": 12,
   "metadata": {
    "collapsed": false
   },
   "outputs": [
    {
     "name": "stdout",
     "output_type": "stream",
     "text": [
      "Tests Passed\n"
     ]
    }
   ],
   "source": [
    "def conv2d_maxpool(x_tensor, conv_num_outputs, conv_ksize, conv_strides, pool_ksize, pool_strides):\n",
    "    \"\"\"\n",
    "    Apply convolution then max pooling to x_tensor\n",
    "    :param x_tensor: TensorFlow Tensor\n",
    "    :param conv_num_outputs: Number of outputs for the convolutional layer\n",
    "    :param conv_ksize: kernal size 2-D Tuple for the convolutional layer\n",
    "    :param conv_strides: Stride 2-D Tuple for convolution\n",
    "    :param pool_ksize: kernal size 2-D Tuple for pool\n",
    "    :param pool_strides: Stride 2-D Tuple for pool\n",
    "    : return: A tensor that represents convolution and max pooling of x_tensor\n",
    "    \"\"\"\n",
    "    # TODO: Implement Function\n",
    "    filter_weights = tf.Variable(tf.truncated_normal(tuple(list(conv_ksize)+[x_tensor.get_shape().as_list()[-1]]+[conv_num_outputs]),stddev=0.01))\n",
    "    strides = [1] + list(conv_strides) + [1]\n",
    "    filter_bias = tf.Variable(tf.zeros(conv_num_outputs))\n",
    "    conv_layer = tf.nn.conv2d(x_tensor,filter_weights,strides,padding='SAME') +filter_bias\n",
    "    conv_layer = tf.nn.relu(conv_layer)\n",
    "    maxpool_filter_size = [1]+list(pool_ksize)+[1]\n",
    "    maxpool_strides_size = [1]+list(pool_strides)+[1]\n",
    "    maxpool_layer = tf.nn.max_pool(conv_layer,maxpool_filter_size,maxpool_strides_size,padding='VALID')\n",
    "    return maxpool_layer\n",
    "\n",
    "\n",
    "\"\"\"\n",
    "DON'T MODIFY ANYTHING IN THIS CELL THAT IS BELOW THIS LINE\n",
    "\"\"\"\n",
    "tests.test_con_pool(conv2d_maxpool)"
   ]
  },
  {
   "cell_type": "markdown",
   "metadata": {},
   "source": [
    "### Flatten Layer\n",
    "Implement the `flatten` function to change the dimension of `x_tensor` from a 4-D tensor to a 2-D tensor.  The output should be the shape (*Batch Size*, *Flattened Image Size*). Shortcut option: you can use classes from the [TensorFlow Layers](https://www.tensorflow.org/api_docs/python/tf/layers) or [TensorFlow Layers (contrib)](https://www.tensorflow.org/api_guides/python/contrib.layers) packages for this layer. For more of a challenge, only use other TensorFlow packages."
   ]
  },
  {
   "cell_type": "code",
   "execution_count": 13,
   "metadata": {
    "collapsed": false
   },
   "outputs": [
    {
     "name": "stdout",
     "output_type": "stream",
     "text": [
      "Tests Passed\n"
     ]
    }
   ],
   "source": [
    "def flatten(x_tensor):\n",
    "    \"\"\"\n",
    "    Flatten x_tensor to (Batch Size, Flattened Image Size)\n",
    "    : x_tensor: A tensor of size (Batch Size, ...), where ... are the image dimensions.\n",
    "    : return: A tensor of size (Batch Size, Flattened Image Size).\n",
    "    \"\"\"\n",
    "    # TODO: Implement Function\n",
    "    flatten_layer = tf.reshape(x_tensor,[-1,np.prod(x_tensor.get_shape().as_list()[1:])])\n",
    "    return flatten_layer\n",
    "\n",
    "\n",
    "\"\"\"\n",
    "DON'T MODIFY ANYTHING IN THIS CELL THAT IS BELOW THIS LINE\n",
    "\"\"\"\n",
    "tests.test_flatten(flatten)"
   ]
  },
  {
   "cell_type": "markdown",
   "metadata": {},
   "source": [
    "### Fully-Connected Layer\n",
    "Implement the `fully_conn` function to apply a fully connected layer to `x_tensor` with the shape (*Batch Size*, *num_outputs*). Shortcut option: you can use classes from the [TensorFlow Layers](https://www.tensorflow.org/api_docs/python/tf/layers) or [TensorFlow Layers (contrib)](https://www.tensorflow.org/api_guides/python/contrib.layers) packages for this layer. For more of a challenge, only use other TensorFlow packages."
   ]
  },
  {
   "cell_type": "code",
   "execution_count": 22,
   "metadata": {
    "collapsed": false
   },
   "outputs": [
    {
     "name": "stdout",
     "output_type": "stream",
     "text": [
      "Tests Passed\n"
     ]
    }
   ],
   "source": [
    "def fully_conn(x_tensor, num_outputs):\n",
    "    \"\"\"\n",
    "    Apply a fully connected layer to x_tensor using weight and bias\n",
    "    : x_tensor: A 2-D tensor where the first dimension is batch size.\n",
    "    : num_outputs: The number of output that the new tensor should be.\n",
    "    : return: A 2-D tensor where the second dimension is num_outputs.\n",
    "    \"\"\"\n",
    "    # TODO: Implement Function\n",
    "    fc_layer = tf.contrib.layers.fully_connected(x_tensor,num_outputs)\n",
    "    fc_layer = tf.nn.relu(fc_layer)\n",
    "    return fc_layer\n",
    "\n",
    "\n",
    "\"\"\"\n",
    "DON'T MODIFY ANYTHING IN THIS CELL THAT IS BELOW THIS LINE\n",
    "\"\"\"\n",
    "tests.test_fully_conn(fully_conn)"
   ]
  },
  {
   "cell_type": "markdown",
   "metadata": {},
   "source": [
    "### Output Layer\n",
    "Implement the `output` function to apply a fully connected layer to `x_tensor` with the shape (*Batch Size*, *num_outputs*). Shortcut option: you can use classes from the [TensorFlow Layers](https://www.tensorflow.org/api_docs/python/tf/layers) or [TensorFlow Layers (contrib)](https://www.tensorflow.org/api_guides/python/contrib.layers) packages for this layer. For more of a challenge, only use other TensorFlow packages.\n",
    "\n",
    "**Note:** Activation, softmax, or cross entropy should **not** be applied to this."
   ]
  },
  {
   "cell_type": "code",
   "execution_count": 15,
   "metadata": {
    "collapsed": false
   },
   "outputs": [
    {
     "name": "stdout",
     "output_type": "stream",
     "text": [
      "Tests Passed\n"
     ]
    }
   ],
   "source": [
    "def output(x_tensor, num_outputs):\n",
    "    \"\"\"\n",
    "    Apply a output layer to x_tensor using weight and bias\n",
    "    : x_tensor: A 2-D tensor where the first dimension is batch size.\n",
    "    : num_outputs: The number of output that the new tensor should be.\n",
    "    : return: A 2-D tensor where the second dimension is num_outputs.\n",
    "    \"\"\"\n",
    "    # TODO: Implement Function\n",
    "    output = tf.contrib.layers.fully_connected(x_tensor,num_outputs)\n",
    "    return output\n",
    "\n",
    "\n",
    "\"\"\"\n",
    "DON'T MODIFY ANYTHING IN THIS CELL THAT IS BELOW THIS LINE\n",
    "\"\"\"\n",
    "tests.test_output(output)"
   ]
  },
  {
   "cell_type": "markdown",
   "metadata": {},
   "source": [
    "### Create Convolutional Model\n",
    "Implement the function `conv_net` to create a convolutional neural network model. The function takes in a batch of images, `x`, and outputs logits.  Use the layers you created above to create this model:\n",
    "\n",
    "* Apply 1, 2, or 3 Convolution and Max Pool layers\n",
    "* Apply a Flatten Layer\n",
    "* Apply 1, 2, or 3 Fully Connected Layers\n",
    "* Apply an Output Layer\n",
    "* Return the output\n",
    "* Apply [TensorFlow's Dropout](https://www.tensorflow.org/api_docs/python/tf/nn/dropout) to one or more layers in the model using `keep_prob`. "
   ]
  },
  {
   "cell_type": "code",
   "execution_count": 24,
   "metadata": {
    "collapsed": false
   },
   "outputs": [
    {
     "name": "stdout",
     "output_type": "stream",
     "text": [
      "Neural Network Built!\n"
     ]
    }
   ],
   "source": [
    "def conv_net(x, keep_prob):\n",
    "    \"\"\"\n",
    "    Create a convolutional neural network model\n",
    "    : x: Placeholder tensor that holds image data.\n",
    "    : keep_prob: Placeholder tensor that hold dropout keep probability.\n",
    "    : return: Tensor that represents logits\n",
    "    \"\"\"\n",
    "    # TODO: Apply 1, 2, or 3 Convolution and Max Pool layers\n",
    "    #    Play around with different number of outputs, kernel size and stride\n",
    "    # Function Definition from Above:\n",
    "    #    conv2d_maxpool(x_tensor, conv_num_outputs, conv_ksize, conv_strides, pool_ksize, pool_strides)\n",
    "    layer_1 = conv2d_maxpool(x, 50, (3,3), (1,1), (2,2), (2,2))\n",
    "    layer_2 = conv2d_maxpool(x, 20, (5,5), (1,1), (2,2), (2,2))\n",
    "    \n",
    "\n",
    "    # TODO: Apply a Flatten Layer\n",
    "    # Function Definition from Above:\n",
    "    #   flatten(x_tensor)\n",
    "    layer_3 = flatten(layer_1) \n",
    "\n",
    "    # TODO: Apply 1, 2, or 3 Fully Connected Layers\n",
    "    #    Play around with different number of outputs\n",
    "    # Function Definition from Above:\n",
    "    #   fully_conn(x_tensor, num_outputs)\n",
    "    layer_4 = fully_conn(layer_3, 50)\n",
    "    layer_5 = tf.nn.dropout(layer_4,keep_prob=keep_prob)\n",
    "    \n",
    "    # TODO: Apply an Output Layer\n",
    "    #    Set this to the number of classes\n",
    "    # Function Definition from Above:\n",
    "    #   output(x_tensor, num_outputs)\n",
    "    output = fully_conn(layer_5, 10)\n",
    "    \n",
    "    # TODO: return output\n",
    "    return output\n",
    "\n",
    "\n",
    "\"\"\"\n",
    "DON'T MODIFY ANYTHING IN THIS CELL THAT IS BELOW THIS LINE\n",
    "\"\"\"\n",
    "\n",
    "##############################\n",
    "## Build the Neural Network ##\n",
    "##############################\n",
    "\n",
    "# Remove previous weights, bias, inputs, etc..\n",
    "tf.reset_default_graph()\n",
    "\n",
    "# Inputs\n",
    "x = neural_net_image_input((32, 32, 3))\n",
    "y = neural_net_label_input(10)\n",
    "keep_prob = neural_net_keep_prob_input()\n",
    "\n",
    "# Model\n",
    "logits = conv_net(x, keep_prob)\n",
    "\n",
    "# Name logits Tensor, so that is can be loaded from disk after training\n",
    "logits = tf.identity(logits, name='logits')\n",
    "\n",
    "# Loss and Optimizer\n",
    "cost = tf.reduce_mean(tf.nn.softmax_cross_entropy_with_logits(logits=logits, labels=y))\n",
    "optimizer = tf.train.AdamOptimizer().minimize(cost)\n",
    "\n",
    "# Accuracy\n",
    "correct_pred = tf.equal(tf.argmax(logits, 1), tf.argmax(y, 1))\n",
    "accuracy = tf.reduce_mean(tf.cast(correct_pred, tf.float32), name='accuracy')\n",
    "\n",
    "tests.test_conv_net(conv_net)"
   ]
  },
  {
   "cell_type": "markdown",
   "metadata": {},
   "source": [
    "## Train the Neural Network\n",
    "### Single Optimization\n",
    "Implement the function `train_neural_network` to do a single optimization.  The optimization should use `optimizer` to optimize in `session` with a `feed_dict` of the following:\n",
    "* `x` for image input\n",
    "* `y` for labels\n",
    "* `keep_prob` for keep probability for dropout\n",
    "\n",
    "This function will be called for each batch, so `tf.global_variables_initializer()` has already been called.\n",
    "\n",
    "Note: Nothing needs to be returned. This function is only optimizing the neural network."
   ]
  },
  {
   "cell_type": "code",
   "execution_count": 25,
   "metadata": {
    "collapsed": false
   },
   "outputs": [
    {
     "name": "stdout",
     "output_type": "stream",
     "text": [
      "Tests Passed\n"
     ]
    }
   ],
   "source": [
    "def train_neural_network(session, optimizer, keep_probability, feature_batch, label_batch):\n",
    "    \"\"\"\n",
    "    Optimize the session on a batch of images and labels\n",
    "    : session: Current TensorFlow session\n",
    "    : optimizer: TensorFlow optimizer function\n",
    "    : keep_probability: keep probability\n",
    "    : feature_batch: Batch of Numpy image data\n",
    "    : label_batch: Batch of Numpy label data\n",
    "    \"\"\"\n",
    "    # TODO: Implement Function\n",
    "    session.run(optimizer,feed_dict={x:feature_batch,y:label_batch,keep_prob:keep_probability})\n",
    "    \n",
    "\n",
    "\n",
    "\"\"\"\n",
    "DON'T MODIFY ANYTHING IN THIS CELL THAT IS BELOW THIS LINE\n",
    "\"\"\"\n",
    "tests.test_train_nn(train_neural_network)"
   ]
  },
  {
   "cell_type": "markdown",
   "metadata": {},
   "source": [
    "### Show Stats\n",
    "Implement the function `print_stats` to print loss and validation accuracy.  Use the global variables `valid_features` and `valid_labels` to calculate validation accuracy.  Use a keep probability of `1.0` to calculate the loss and validation accuracy."
   ]
  },
  {
   "cell_type": "code",
   "execution_count": 26,
   "metadata": {
    "collapsed": false
   },
   "outputs": [],
   "source": [
    "def print_stats(session, feature_batch, label_batch, cost, accuracy):\n",
    "    \"\"\"\n",
    "    Print information about loss and validation accuracy\n",
    "    : session: Current TensorFlow session\n",
    "    : feature_batch: Batch of Numpy image data\n",
    "    : label_batch: Batch of Numpy label data\n",
    "    : cost: TensorFlow cost function\n",
    "    : accuracy: TensorFlow accuracy function\n",
    "    \"\"\"\n",
    "    # TODO: Implement Function\n",
    "    c = session.run(cost,feed_dict={x:feature_batch,y:label_batch,keep_prob:1})\n",
    "    a = session.run(accuracy,feed_dict={x:feature_batch,y:label_batch,keep_prob:1})\n",
    "    print('cost = {:.9f}'.format(c),'accuracy = {:.9f}'.format(a))"
   ]
  },
  {
   "cell_type": "markdown",
   "metadata": {},
   "source": [
    "### Hyperparameters\n",
    "Tune the following parameters:\n",
    "* Set `epochs` to the number of iterations until the network stops learning or start overfitting\n",
    "* Set `batch_size` to the highest number that your machine has memory for.  Most people set them to common sizes of memory:\n",
    " * 64\n",
    " * 128\n",
    " * 256\n",
    " * ...\n",
    "* Set `keep_probability` to the probability of keeping a node using dropout"
   ]
  },
  {
   "cell_type": "code",
   "execution_count": 27,
   "metadata": {
    "collapsed": true
   },
   "outputs": [],
   "source": [
    "# TODO: Tune Parameters\n",
    "epochs = 50\n",
    "batch_size = 256\n",
    "keep_probability = 0.5"
   ]
  },
  {
   "cell_type": "markdown",
   "metadata": {},
   "source": [
    "### Train on a Single CIFAR-10 Batch\n",
    "Instead of training the neural network on all the CIFAR-10 batches of data, let's use a single batch. This should save time while you iterate on the model to get a better accuracy.  Once the final validation accuracy is 50% or greater, run the model on all the data in the next section."
   ]
  },
  {
   "cell_type": "code",
   "execution_count": 31,
   "metadata": {
    "collapsed": false
   },
   "outputs": [
    {
     "name": "stdout",
     "output_type": "stream",
     "text": [
      "Checking the Training on a Single Batch...\n",
      "Epoch  1, CIFAR-10 Batch 1:  cost = 2.177833557 accuracy = 0.236999974\n",
      "Epoch  2, CIFAR-10 Batch 1:  cost = 2.042476177 accuracy = 0.293199986\n",
      "Epoch  3, CIFAR-10 Batch 1:  cost = 1.959518671 accuracy = 0.333999962\n",
      "Epoch  4, CIFAR-10 Batch 1:  cost = 1.905252934 accuracy = 0.354199976\n",
      "Epoch  5, CIFAR-10 Batch 1:  cost = 1.843661070 accuracy = 0.373799980\n",
      "Epoch  6, CIFAR-10 Batch 1:  cost = 1.782610536 accuracy = 0.397199988\n",
      "Epoch  7, CIFAR-10 Batch 1:  cost = 1.764698505 accuracy = 0.384000003\n",
      "Epoch  8, CIFAR-10 Batch 1:  cost = 1.692960978 accuracy = 0.415399998\n",
      "Epoch  9, CIFAR-10 Batch 1:  cost = 1.653052568 accuracy = 0.429799974\n",
      "Epoch 10, CIFAR-10 Batch 1:  cost = 1.623959064 accuracy = 0.440999985\n",
      "Epoch 11, CIFAR-10 Batch 1:  cost = 1.606779814 accuracy = 0.440199971\n",
      "Epoch 12, CIFAR-10 Batch 1:  cost = 1.573308825 accuracy = 0.453000009\n",
      "Epoch 13, CIFAR-10 Batch 1:  cost = 1.572435379 accuracy = 0.452199966\n",
      "Epoch 14, CIFAR-10 Batch 1:  cost = 1.556217194 accuracy = 0.458399951\n",
      "Epoch 15, CIFAR-10 Batch 1:  cost = 1.522767782 accuracy = 0.467199951\n",
      "Epoch 16, CIFAR-10 Batch 1:  cost = 1.500097632 accuracy = 0.474199951\n",
      "Epoch 17, CIFAR-10 Batch 1:  cost = 1.524048686 accuracy = 0.466399997\n",
      "Epoch 18, CIFAR-10 Batch 1:  cost = 1.514498591 accuracy = 0.468999982\n",
      "Epoch 19, CIFAR-10 Batch 1:  cost = 1.496870875 accuracy = 0.480399966\n",
      "Epoch 20, CIFAR-10 Batch 1:  cost = 1.477104306 accuracy = 0.481399953\n",
      "Epoch 21, CIFAR-10 Batch 1:  cost = 1.484405875 accuracy = 0.475800008\n",
      "Epoch 22, CIFAR-10 Batch 1:  cost = 1.469830990 accuracy = 0.483799964\n",
      "Epoch 23, CIFAR-10 Batch 1:  cost = 1.485810518 accuracy = 0.475199968\n",
      "Epoch 24, CIFAR-10 Batch 1:  cost = 1.463273764 accuracy = 0.480999976\n",
      "Epoch 25, CIFAR-10 Batch 1:  cost = 1.473827362 accuracy = 0.483999938\n",
      "Epoch 26, CIFAR-10 Batch 1:  cost = 1.427638292 accuracy = 0.489799947\n",
      "Epoch 27, CIFAR-10 Batch 1:  cost = 1.440886021 accuracy = 0.490199983\n",
      "Epoch 28, CIFAR-10 Batch 1:  cost = 1.417324305 accuracy = 0.495599955\n",
      "Epoch 29, CIFAR-10 Batch 1:  cost = 1.436124086 accuracy = 0.489999980\n",
      "Epoch 30, CIFAR-10 Batch 1:  cost = 1.409608364 accuracy = 0.499399930\n",
      "Epoch 31, CIFAR-10 Batch 1:  cost = 1.404429078 accuracy = 0.499599934\n",
      "Epoch 32, CIFAR-10 Batch 1:  cost = 1.425848007 accuracy = 0.490799963\n",
      "Epoch 33, CIFAR-10 Batch 1:  cost = 1.400677800 accuracy = 0.505199969\n",
      "Epoch 34, CIFAR-10 Batch 1:  cost = 1.395224690 accuracy = 0.506799936\n",
      "Epoch 35, CIFAR-10 Batch 1:  cost = 1.401212573 accuracy = 0.502399921\n",
      "Epoch 36, CIFAR-10 Batch 1:  cost = 1.387018561 accuracy = 0.507999957\n",
      "Epoch 37, CIFAR-10 Batch 1:  cost = 1.377787471 accuracy = 0.511599958\n",
      "Epoch 38, CIFAR-10 Batch 1:  cost = 1.379774928 accuracy = 0.505399942\n",
      "Epoch 39, CIFAR-10 Batch 1:  cost = 1.393483043 accuracy = 0.502599955\n",
      "Epoch 40, CIFAR-10 Batch 1:  cost = 1.375461936 accuracy = 0.506999910\n",
      "Epoch 41, CIFAR-10 Batch 1:  cost = 1.369369864 accuracy = 0.514199913\n",
      "Epoch 42, CIFAR-10 Batch 1:  cost = 1.390381455 accuracy = 0.505799949\n",
      "Epoch 43, CIFAR-10 Batch 1:  cost = 1.360657930 accuracy = 0.515599906\n",
      "Epoch 44, CIFAR-10 Batch 1:  cost = 1.361656904 accuracy = 0.512399912\n",
      "Epoch 45, CIFAR-10 Batch 1:  cost = 1.379911900 accuracy = 0.504799962\n",
      "Epoch 46, CIFAR-10 Batch 1:  cost = 1.370023727 accuracy = 0.511199951\n",
      "Epoch 47, CIFAR-10 Batch 1:  cost = 1.369150996 accuracy = 0.514799953\n",
      "Epoch 48, CIFAR-10 Batch 1:  cost = 1.353056788 accuracy = 0.519799948\n",
      "Epoch 49, CIFAR-10 Batch 1:  cost = 1.367801905 accuracy = 0.515599966\n",
      "Epoch 50, CIFAR-10 Batch 1:  cost = 1.359541178 accuracy = 0.519999921\n"
     ]
    }
   ],
   "source": [
    "\"\"\"\n",
    "DON'T MODIFY ANYTHING IN THIS CELL\n",
    "\"\"\"\n",
    "print('Checking the Training on a Single Batch...')\n",
    "with tf.Session() as sess:\n",
    "    # Initializing the variables\n",
    "    sess.run(tf.global_variables_initializer())\n",
    "    \n",
    "    # Training cycle\n",
    "    for epoch in range(epochs):\n",
    "        batch_i = 1\n",
    "        for batch_features, batch_labels in helper.load_preprocess_training_batch(batch_i, batch_size):\n",
    "            train_neural_network(sess, optimizer, keep_probability, batch_features, batch_labels)\n",
    "        print('Epoch {:>2}, CIFAR-10 Batch {}:  '.format(epoch + 1, batch_i), end='')\n",
    "        print_stats(sess, valid_features, valid_labels, cost, accuracy)"
   ]
  },
  {
   "cell_type": "markdown",
   "metadata": {},
   "source": [
    "### Fully Train the Model\n",
    "Now that you got a good accuracy with a single CIFAR-10 batch, try it with all five batches."
   ]
  },
  {
   "cell_type": "code",
   "execution_count": 32,
   "metadata": {
    "collapsed": false
   },
   "outputs": [
    {
     "name": "stdout",
     "output_type": "stream",
     "text": [
      "Training...\n",
      "Epoch  1, CIFAR-10 Batch 1:  cost = 2.176550865 accuracy = 0.209199995\n",
      "Epoch  1, CIFAR-10 Batch 2:  cost = 1.986296773 accuracy = 0.319999993\n",
      "Epoch  1, CIFAR-10 Batch 3:  cost = 1.877834558 accuracy = 0.354199946\n",
      "Epoch  1, CIFAR-10 Batch 4:  cost = 1.819470167 accuracy = 0.381399959\n",
      "Epoch  1, CIFAR-10 Batch 5:  cost = 1.746500254 accuracy = 0.408999979\n",
      "Epoch  2, CIFAR-10 Batch 1:  cost = 1.715412736 accuracy = 0.410599977\n",
      "Epoch  2, CIFAR-10 Batch 2:  cost = 1.654648662 accuracy = 0.434399933\n",
      "Epoch  2, CIFAR-10 Batch 3:  cost = 1.642161608 accuracy = 0.433799952\n",
      "Epoch  2, CIFAR-10 Batch 4:  cost = 1.602241039 accuracy = 0.439399958\n",
      "Epoch  2, CIFAR-10 Batch 5:  cost = 1.573799968 accuracy = 0.456999987\n",
      "Epoch  3, CIFAR-10 Batch 1:  cost = 1.581562281 accuracy = 0.440999985\n",
      "Epoch  3, CIFAR-10 Batch 2:  cost = 1.523383617 accuracy = 0.462199986\n",
      "Epoch  3, CIFAR-10 Batch 3:  cost = 1.536270499 accuracy = 0.470200002\n",
      "Epoch  3, CIFAR-10 Batch 4:  cost = 1.491656303 accuracy = 0.478799939\n",
      "Epoch  3, CIFAR-10 Batch 5:  cost = 1.476738811 accuracy = 0.474799961\n",
      "Epoch  4, CIFAR-10 Batch 1:  cost = 1.456683040 accuracy = 0.495400012\n",
      "Epoch  4, CIFAR-10 Batch 2:  cost = 1.455655932 accuracy = 0.500999928\n",
      "Epoch  4, CIFAR-10 Batch 3:  cost = 1.437226892 accuracy = 0.504199922\n",
      "Epoch  4, CIFAR-10 Batch 4:  cost = 1.413802147 accuracy = 0.507799923\n",
      "Epoch  4, CIFAR-10 Batch 5:  cost = 1.434110641 accuracy = 0.508399963\n",
      "Epoch  5, CIFAR-10 Batch 1:  cost = 1.406051397 accuracy = 0.508399963\n",
      "Epoch  5, CIFAR-10 Batch 2:  cost = 1.390827656 accuracy = 0.513999999\n",
      "Epoch  5, CIFAR-10 Batch 3:  cost = 1.396720886 accuracy = 0.520999968\n",
      "Epoch  5, CIFAR-10 Batch 4:  cost = 1.371016622 accuracy = 0.517199993\n",
      "Epoch  5, CIFAR-10 Batch 5:  cost = 1.391094685 accuracy = 0.514399946\n",
      "Epoch  6, CIFAR-10 Batch 1:  cost = 1.353357792 accuracy = 0.529599965\n",
      "Epoch  6, CIFAR-10 Batch 2:  cost = 1.356285930 accuracy = 0.532399952\n",
      "Epoch  6, CIFAR-10 Batch 3:  cost = 1.342637539 accuracy = 0.529999971\n",
      "Epoch  6, CIFAR-10 Batch 4:  cost = 1.341938496 accuracy = 0.528599918\n",
      "Epoch  6, CIFAR-10 Batch 5:  cost = 1.347812772 accuracy = 0.525399923\n",
      "Epoch  7, CIFAR-10 Batch 1:  cost = 1.328102589 accuracy = 0.533199906\n",
      "Epoch  7, CIFAR-10 Batch 2:  cost = 1.348761439 accuracy = 0.533199966\n",
      "Epoch  7, CIFAR-10 Batch 3:  cost = 1.329238176 accuracy = 0.542199910\n",
      "Epoch  7, CIFAR-10 Batch 4:  cost = 1.316693187 accuracy = 0.537199914\n",
      "Epoch  7, CIFAR-10 Batch 5:  cost = 1.337960720 accuracy = 0.524999917\n",
      "Epoch  8, CIFAR-10 Batch 1:  cost = 1.318641305 accuracy = 0.543999910\n",
      "Epoch  8, CIFAR-10 Batch 2:  cost = 1.334875345 accuracy = 0.538799942\n",
      "Epoch  8, CIFAR-10 Batch 3:  cost = 1.310271263 accuracy = 0.544799924\n",
      "Epoch  8, CIFAR-10 Batch 4:  cost = 1.297213793 accuracy = 0.545799971\n",
      "Epoch  8, CIFAR-10 Batch 5:  cost = 1.318882108 accuracy = 0.541999936\n",
      "Epoch  9, CIFAR-10 Batch 1:  cost = 1.311536074 accuracy = 0.544399917\n",
      "Epoch  9, CIFAR-10 Batch 2:  cost = 1.338948131 accuracy = 0.534599960\n",
      "Epoch  9, CIFAR-10 Batch 3:  cost = 1.288517952 accuracy = 0.549599946\n",
      "Epoch  9, CIFAR-10 Batch 4:  cost = 1.274973631 accuracy = 0.556199968\n",
      "Epoch  9, CIFAR-10 Batch 5:  cost = 1.299062967 accuracy = 0.544599891\n",
      "Epoch 10, CIFAR-10 Batch 1:  cost = 1.292648792 accuracy = 0.553199947\n",
      "Epoch 10, CIFAR-10 Batch 2:  cost = 1.315427303 accuracy = 0.543599963\n",
      "Epoch 10, CIFAR-10 Batch 3:  cost = 1.264503479 accuracy = 0.554599941\n",
      "Epoch 10, CIFAR-10 Batch 4:  cost = 1.271623731 accuracy = 0.545599937\n",
      "Epoch 10, CIFAR-10 Batch 5:  cost = 1.266008496 accuracy = 0.548999906\n",
      "Epoch 11, CIFAR-10 Batch 1:  cost = 1.277299047 accuracy = 0.552799940\n",
      "Epoch 11, CIFAR-10 Batch 2:  cost = 1.287858009 accuracy = 0.555199862\n",
      "Epoch 11, CIFAR-10 Batch 3:  cost = 1.261452675 accuracy = 0.556399941\n",
      "Epoch 11, CIFAR-10 Batch 4:  cost = 1.251045704 accuracy = 0.556599975\n",
      "Epoch 11, CIFAR-10 Batch 5:  cost = 1.253777742 accuracy = 0.555399954\n",
      "Epoch 12, CIFAR-10 Batch 1:  cost = 1.277987599 accuracy = 0.553799927\n",
      "Epoch 12, CIFAR-10 Batch 2:  cost = 1.251936793 accuracy = 0.555999875\n",
      "Epoch 12, CIFAR-10 Batch 3:  cost = 1.260048866 accuracy = 0.552799940\n",
      "Epoch 12, CIFAR-10 Batch 4:  cost = 1.248919725 accuracy = 0.561799943\n",
      "Epoch 12, CIFAR-10 Batch 5:  cost = 1.238808036 accuracy = 0.563599944\n",
      "Epoch 13, CIFAR-10 Batch 1:  cost = 1.293780088 accuracy = 0.550999939\n",
      "Epoch 13, CIFAR-10 Batch 2:  cost = 1.277556419 accuracy = 0.561599910\n",
      "Epoch 13, CIFAR-10 Batch 3:  cost = 1.241816044 accuracy = 0.564399958\n",
      "Epoch 13, CIFAR-10 Batch 4:  cost = 1.240367055 accuracy = 0.555799901\n",
      "Epoch 13, CIFAR-10 Batch 5:  cost = 1.239253998 accuracy = 0.566599965\n",
      "Epoch 14, CIFAR-10 Batch 1:  cost = 1.263115168 accuracy = 0.558599949\n",
      "Epoch 14, CIFAR-10 Batch 2:  cost = 1.252945423 accuracy = 0.565799952\n",
      "Epoch 14, CIFAR-10 Batch 3:  cost = 1.226236582 accuracy = 0.566599965\n",
      "Epoch 14, CIFAR-10 Batch 4:  cost = 1.232211947 accuracy = 0.573399901\n",
      "Epoch 14, CIFAR-10 Batch 5:  cost = 1.227463603 accuracy = 0.569799960\n",
      "Epoch 15, CIFAR-10 Batch 1:  cost = 1.227780223 accuracy = 0.572999895\n",
      "Epoch 15, CIFAR-10 Batch 2:  cost = 1.263370752 accuracy = 0.562599897\n",
      "Epoch 15, CIFAR-10 Batch 3:  cost = 1.215305090 accuracy = 0.565799952\n",
      "Epoch 15, CIFAR-10 Batch 4:  cost = 1.215921521 accuracy = 0.564199924\n",
      "Epoch 15, CIFAR-10 Batch 5:  cost = 1.215335608 accuracy = 0.569599986\n",
      "Epoch 16, CIFAR-10 Batch 1:  cost = 1.224337697 accuracy = 0.566799879\n",
      "Epoch 16, CIFAR-10 Batch 2:  cost = 1.217094898 accuracy = 0.571999907\n",
      "Epoch 16, CIFAR-10 Batch 3:  cost = 1.211168766 accuracy = 0.571399927\n",
      "Epoch 16, CIFAR-10 Batch 4:  cost = 1.210327387 accuracy = 0.571799934\n",
      "Epoch 16, CIFAR-10 Batch 5:  cost = 1.213001013 accuracy = 0.568399906\n",
      "Epoch 17, CIFAR-10 Batch 1:  cost = 1.211760998 accuracy = 0.570599914\n",
      "Epoch 17, CIFAR-10 Batch 2:  cost = 1.246378064 accuracy = 0.565399945\n",
      "Epoch 17, CIFAR-10 Batch 3:  cost = 1.195637703 accuracy = 0.576599956\n",
      "Epoch 17, CIFAR-10 Batch 4:  cost = 1.203281879 accuracy = 0.573599935\n",
      "Epoch 17, CIFAR-10 Batch 5:  cost = 1.210630059 accuracy = 0.567799926\n",
      "Epoch 18, CIFAR-10 Batch 1:  cost = 1.205025315 accuracy = 0.572599947\n",
      "Epoch 18, CIFAR-10 Batch 2:  cost = 1.201708078 accuracy = 0.577999890\n",
      "Epoch 18, CIFAR-10 Batch 3:  cost = 1.216631055 accuracy = 0.568399966\n",
      "Epoch 18, CIFAR-10 Batch 4:  cost = 1.196371198 accuracy = 0.579199910\n",
      "Epoch 18, CIFAR-10 Batch 5:  cost = 1.193077087 accuracy = 0.571599901\n",
      "Epoch 19, CIFAR-10 Batch 1:  cost = 1.212702990 accuracy = 0.574399889\n",
      "Epoch 19, CIFAR-10 Batch 2:  cost = 1.194899321 accuracy = 0.579799891\n",
      "Epoch 19, CIFAR-10 Batch 3:  cost = 1.187456965 accuracy = 0.580799937\n",
      "Epoch 19, CIFAR-10 Batch 4:  cost = 1.190758586 accuracy = 0.583599925\n",
      "Epoch 19, CIFAR-10 Batch 5:  cost = 1.186054826 accuracy = 0.576799929\n",
      "Epoch 20, CIFAR-10 Batch 1:  cost = 1.181703329 accuracy = 0.582599938\n",
      "Epoch 20, CIFAR-10 Batch 2:  cost = 1.193078041 accuracy = 0.583599985\n",
      "Epoch 20, CIFAR-10 Batch 3:  cost = 1.181184888 accuracy = 0.582799911\n",
      "Epoch 20, CIFAR-10 Batch 4:  cost = 1.178599954 accuracy = 0.589199901\n",
      "Epoch 20, CIFAR-10 Batch 5:  cost = 1.179655790 accuracy = 0.579799950\n",
      "Epoch 21, CIFAR-10 Batch 1:  cost = 1.191573977 accuracy = 0.578799903\n",
      "Epoch 21, CIFAR-10 Batch 2:  cost = 1.177582502 accuracy = 0.584399879\n",
      "Epoch 21, CIFAR-10 Batch 3:  cost = 1.179740310 accuracy = 0.588599920\n",
      "Epoch 21, CIFAR-10 Batch 4:  cost = 1.175492287 accuracy = 0.585399926\n",
      "Epoch 21, CIFAR-10 Batch 5:  cost = 1.169088960 accuracy = 0.587399960\n",
      "Epoch 22, CIFAR-10 Batch 1:  cost = 1.204366803 accuracy = 0.572799921\n",
      "Epoch 22, CIFAR-10 Batch 2:  cost = 1.194114685 accuracy = 0.579199910\n",
      "Epoch 22, CIFAR-10 Batch 3:  cost = 1.175958395 accuracy = 0.588999927\n",
      "Epoch 22, CIFAR-10 Batch 4:  cost = 1.188513517 accuracy = 0.578599930\n",
      "Epoch 22, CIFAR-10 Batch 5:  cost = 1.166196227 accuracy = 0.585399926\n",
      "Epoch 23, CIFAR-10 Batch 1:  cost = 1.169318676 accuracy = 0.581599951\n",
      "Epoch 23, CIFAR-10 Batch 2:  cost = 1.162416220 accuracy = 0.590199947\n",
      "Epoch 23, CIFAR-10 Batch 3:  cost = 1.177372217 accuracy = 0.582399905\n",
      "Epoch 23, CIFAR-10 Batch 4:  cost = 1.162340879 accuracy = 0.588399947\n",
      "Epoch 23, CIFAR-10 Batch 5:  cost = 1.164678574 accuracy = 0.583399892\n",
      "Epoch 24, CIFAR-10 Batch 1:  cost = 1.169443727 accuracy = 0.586999893\n",
      "Epoch 24, CIFAR-10 Batch 2:  cost = 1.174601912 accuracy = 0.580799937\n",
      "Epoch 24, CIFAR-10 Batch 3:  cost = 1.170367479 accuracy = 0.587399900\n",
      "Epoch 24, CIFAR-10 Batch 4:  cost = 1.170145273 accuracy = 0.582599878\n",
      "Epoch 24, CIFAR-10 Batch 5:  cost = 1.155938864 accuracy = 0.590199947\n",
      "Epoch 25, CIFAR-10 Batch 1:  cost = 1.165052414 accuracy = 0.587599933\n",
      "Epoch 25, CIFAR-10 Batch 2:  cost = 1.156759620 accuracy = 0.593999982\n",
      "Epoch 25, CIFAR-10 Batch 3:  cost = 1.167233109 accuracy = 0.592599928\n",
      "Epoch 25, CIFAR-10 Batch 4:  cost = 1.168259263 accuracy = 0.585599959\n",
      "Epoch 25, CIFAR-10 Batch 5:  cost = 1.154299259 accuracy = 0.593199909\n",
      "Epoch 26, CIFAR-10 Batch 1:  cost = 1.169946074 accuracy = 0.580999970\n",
      "Epoch 26, CIFAR-10 Batch 2:  cost = 1.153149962 accuracy = 0.596999884\n",
      "Epoch 26, CIFAR-10 Batch 3:  cost = 1.151998639 accuracy = 0.597999871\n",
      "Epoch 26, CIFAR-10 Batch 4:  cost = 1.172178745 accuracy = 0.587399960\n",
      "Epoch 26, CIFAR-10 Batch 5:  cost = 1.154578447 accuracy = 0.597999930\n",
      "Epoch 27, CIFAR-10 Batch 1:  cost = 1.164760351 accuracy = 0.588199914\n",
      "Epoch 27, CIFAR-10 Batch 2:  cost = 1.152551293 accuracy = 0.592599928\n",
      "Epoch 27, CIFAR-10 Batch 3:  cost = 1.166397095 accuracy = 0.592199922\n",
      "Epoch 27, CIFAR-10 Batch 4:  cost = 1.142257690 accuracy = 0.593399882\n",
      "Epoch 27, CIFAR-10 Batch 5:  cost = 1.139663815 accuracy = 0.602799892\n",
      "Epoch 28, CIFAR-10 Batch 1:  cost = 1.153025627 accuracy = 0.591999888\n",
      "Epoch 28, CIFAR-10 Batch 2:  cost = 1.135818958 accuracy = 0.598599911\n",
      "Epoch 28, CIFAR-10 Batch 3:  cost = 1.148078442 accuracy = 0.594799876\n",
      "Epoch 28, CIFAR-10 Batch 4:  cost = 1.142033577 accuracy = 0.602399886\n",
      "Epoch 28, CIFAR-10 Batch 5:  cost = 1.141596556 accuracy = 0.599599898\n",
      "Epoch 29, CIFAR-10 Batch 1:  cost = 1.146046400 accuracy = 0.592799962\n",
      "Epoch 29, CIFAR-10 Batch 2:  cost = 1.156944156 accuracy = 0.591799915\n",
      "Epoch 29, CIFAR-10 Batch 3:  cost = 1.142704248 accuracy = 0.598399937\n",
      "Epoch 29, CIFAR-10 Batch 4:  cost = 1.146995902 accuracy = 0.595399916\n",
      "Epoch 29, CIFAR-10 Batch 5:  cost = 1.136025310 accuracy = 0.602199912\n",
      "Epoch 30, CIFAR-10 Batch 1:  cost = 1.137597322 accuracy = 0.600799918\n",
      "Epoch 30, CIFAR-10 Batch 2:  cost = 1.157750010 accuracy = 0.590799928\n",
      "Epoch 30, CIFAR-10 Batch 3:  cost = 1.139093995 accuracy = 0.600599885\n",
      "Epoch 30, CIFAR-10 Batch 4:  cost = 1.135494113 accuracy = 0.603799939\n",
      "Epoch 30, CIFAR-10 Batch 5:  cost = 1.123304486 accuracy = 0.605999887\n",
      "Epoch 31, CIFAR-10 Batch 1:  cost = 1.137217402 accuracy = 0.600399911\n",
      "Epoch 31, CIFAR-10 Batch 2:  cost = 1.138929844 accuracy = 0.599199891\n",
      "Epoch 31, CIFAR-10 Batch 3:  cost = 1.141945958 accuracy = 0.599999905\n",
      "Epoch 31, CIFAR-10 Batch 4:  cost = 1.129020810 accuracy = 0.604199946\n",
      "Epoch 31, CIFAR-10 Batch 5:  cost = 1.122442007 accuracy = 0.602599859\n",
      "Epoch 32, CIFAR-10 Batch 1:  cost = 1.135891914 accuracy = 0.604799926\n",
      "Epoch 32, CIFAR-10 Batch 2:  cost = 1.130758524 accuracy = 0.604399920\n",
      "Epoch 32, CIFAR-10 Batch 3:  cost = 1.144709468 accuracy = 0.600599885\n",
      "Epoch 32, CIFAR-10 Batch 4:  cost = 1.128219604 accuracy = 0.607599914\n",
      "Epoch 32, CIFAR-10 Batch 5:  cost = 1.123396993 accuracy = 0.605399907\n",
      "Epoch 33, CIFAR-10 Batch 1:  cost = 1.132218719 accuracy = 0.604199946\n",
      "Epoch 33, CIFAR-10 Batch 2:  cost = 1.134824872 accuracy = 0.602199912\n",
      "Epoch 33, CIFAR-10 Batch 3:  cost = 1.153117418 accuracy = 0.595399916\n",
      "Epoch 33, CIFAR-10 Batch 4:  cost = 1.136963725 accuracy = 0.600799978\n",
      "Epoch 33, CIFAR-10 Batch 5:  cost = 1.113965511 accuracy = 0.607999921\n",
      "Epoch 34, CIFAR-10 Batch 1:  cost = 1.127552867 accuracy = 0.604599893\n",
      "Epoch 34, CIFAR-10 Batch 2:  cost = 1.135434747 accuracy = 0.604199946\n",
      "Epoch 34, CIFAR-10 Batch 3:  cost = 1.139637589 accuracy = 0.597599924\n",
      "Epoch 34, CIFAR-10 Batch 4:  cost = 1.120978475 accuracy = 0.602599859\n",
      "Epoch 34, CIFAR-10 Batch 5:  cost = 1.113297343 accuracy = 0.612399936\n",
      "Epoch 35, CIFAR-10 Batch 1:  cost = 1.121013880 accuracy = 0.608799934\n",
      "Epoch 35, CIFAR-10 Batch 2:  cost = 1.115751147 accuracy = 0.611799955\n",
      "Epoch 35, CIFAR-10 Batch 3:  cost = 1.119392157 accuracy = 0.604799926\n",
      "Epoch 35, CIFAR-10 Batch 4:  cost = 1.122509718 accuracy = 0.604599893\n",
      "Epoch 35, CIFAR-10 Batch 5:  cost = 1.121673822 accuracy = 0.603199840\n",
      "Epoch 36, CIFAR-10 Batch 1:  cost = 1.120137095 accuracy = 0.610399902\n",
      "Epoch 36, CIFAR-10 Batch 2:  cost = 1.123293638 accuracy = 0.604999900\n",
      "Epoch 36, CIFAR-10 Batch 3:  cost = 1.140219808 accuracy = 0.595799923\n",
      "Epoch 36, CIFAR-10 Batch 4:  cost = 1.123119712 accuracy = 0.610799909\n",
      "Epoch 36, CIFAR-10 Batch 5:  cost = 1.117065549 accuracy = 0.611399949\n",
      "Epoch 37, CIFAR-10 Batch 1:  cost = 1.133597255 accuracy = 0.602599859\n",
      "Epoch 37, CIFAR-10 Batch 2:  cost = 1.122433782 accuracy = 0.598999858\n",
      "Epoch 37, CIFAR-10 Batch 3:  cost = 1.109140873 accuracy = 0.606199861\n",
      "Epoch 37, CIFAR-10 Batch 4:  cost = 1.128358483 accuracy = 0.598599911\n",
      "Epoch 37, CIFAR-10 Batch 5:  cost = 1.099835873 accuracy = 0.615199924\n",
      "Epoch 38, CIFAR-10 Batch 1:  cost = 1.127445340 accuracy = 0.607399940\n",
      "Epoch 38, CIFAR-10 Batch 2:  cost = 1.111710548 accuracy = 0.612199903\n",
      "Epoch 38, CIFAR-10 Batch 3:  cost = 1.118221521 accuracy = 0.610399961\n",
      "Epoch 38, CIFAR-10 Batch 4:  cost = 1.124187469 accuracy = 0.601999938\n",
      "Epoch 38, CIFAR-10 Batch 5:  cost = 1.112623334 accuracy = 0.610799909\n",
      "Epoch 39, CIFAR-10 Batch 1:  cost = 1.116454601 accuracy = 0.608599961\n",
      "Epoch 39, CIFAR-10 Batch 2:  cost = 1.112837434 accuracy = 0.612399936\n",
      "Epoch 39, CIFAR-10 Batch 3:  cost = 1.125599742 accuracy = 0.601999879\n",
      "Epoch 39, CIFAR-10 Batch 4:  cost = 1.118478537 accuracy = 0.604199886\n",
      "Epoch 39, CIFAR-10 Batch 5:  cost = 1.108395338 accuracy = 0.614799917\n",
      "Epoch 40, CIFAR-10 Batch 1:  cost = 1.110545397 accuracy = 0.611599922\n",
      "Epoch 40, CIFAR-10 Batch 2:  cost = 1.111371756 accuracy = 0.609399915\n",
      "Epoch 40, CIFAR-10 Batch 3:  cost = 1.113653541 accuracy = 0.604599953\n",
      "Epoch 40, CIFAR-10 Batch 4:  cost = 1.111723781 accuracy = 0.609999835\n",
      "Epoch 40, CIFAR-10 Batch 5:  cost = 1.114823580 accuracy = 0.612199903\n",
      "Epoch 41, CIFAR-10 Batch 1:  cost = 1.122797012 accuracy = 0.603599906\n",
      "Epoch 41, CIFAR-10 Batch 2:  cost = 1.106209517 accuracy = 0.614399910\n",
      "Epoch 41, CIFAR-10 Batch 3:  cost = 1.120086312 accuracy = 0.603199899\n",
      "Epoch 41, CIFAR-10 Batch 4:  cost = 1.111949563 accuracy = 0.611799896\n",
      "Epoch 41, CIFAR-10 Batch 5:  cost = 1.107151389 accuracy = 0.612599909\n",
      "Epoch 42, CIFAR-10 Batch 1:  cost = 1.098849654 accuracy = 0.615999937\n",
      "Epoch 42, CIFAR-10 Batch 2:  cost = 1.103760123 accuracy = 0.618999898\n",
      "Epoch 42, CIFAR-10 Batch 3:  cost = 1.109890342 accuracy = 0.613799870\n",
      "Epoch 42, CIFAR-10 Batch 4:  cost = 1.106358528 accuracy = 0.614799917\n",
      "Epoch 42, CIFAR-10 Batch 5:  cost = 1.102858543 accuracy = 0.615799963\n",
      "Epoch 43, CIFAR-10 Batch 1:  cost = 1.106637478 accuracy = 0.617199898\n",
      "Epoch 43, CIFAR-10 Batch 2:  cost = 1.118450284 accuracy = 0.612599969\n",
      "Epoch 43, CIFAR-10 Batch 3:  cost = 1.109941244 accuracy = 0.615599871\n",
      "Epoch 43, CIFAR-10 Batch 4:  cost = 1.107801437 accuracy = 0.610799849\n",
      "Epoch 43, CIFAR-10 Batch 5:  cost = 1.102563977 accuracy = 0.618599892\n",
      "Epoch 44, CIFAR-10 Batch 1:  cost = 1.106353998 accuracy = 0.620599926\n",
      "Epoch 44, CIFAR-10 Batch 2:  cost = 1.100553274 accuracy = 0.621399879\n",
      "Epoch 44, CIFAR-10 Batch 3:  cost = 1.113631487 accuracy = 0.610199928\n",
      "Epoch 44, CIFAR-10 Batch 4:  cost = 1.122874737 accuracy = 0.605799913\n",
      "Epoch 44, CIFAR-10 Batch 5:  cost = 1.119238853 accuracy = 0.607599914\n",
      "Epoch 45, CIFAR-10 Batch 1:  cost = 1.116009712 accuracy = 0.608999908\n",
      "Epoch 45, CIFAR-10 Batch 2:  cost = 1.104965210 accuracy = 0.613999903\n",
      "Epoch 45, CIFAR-10 Batch 3:  cost = 1.139195919 accuracy = 0.601399899\n",
      "Epoch 45, CIFAR-10 Batch 4:  cost = 1.109442949 accuracy = 0.608199894\n",
      "Epoch 45, CIFAR-10 Batch 5:  cost = 1.116432428 accuracy = 0.614799917\n",
      "Epoch 46, CIFAR-10 Batch 1:  cost = 1.114995360 accuracy = 0.611599863\n",
      "Epoch 46, CIFAR-10 Batch 2:  cost = 1.122978449 accuracy = 0.606399894\n",
      "Epoch 46, CIFAR-10 Batch 3:  cost = 1.107935667 accuracy = 0.614999890\n",
      "Epoch 46, CIFAR-10 Batch 4:  cost = 1.127272367 accuracy = 0.607599914\n",
      "Epoch 46, CIFAR-10 Batch 5:  cost = 1.104452610 accuracy = 0.616799951\n",
      "Epoch 47, CIFAR-10 Batch 1:  cost = 1.108573675 accuracy = 0.615799904\n",
      "Epoch 47, CIFAR-10 Batch 2:  cost = 1.113329053 accuracy = 0.607599914\n",
      "Epoch 47, CIFAR-10 Batch 3:  cost = 1.100426078 accuracy = 0.621799946\n",
      "Epoch 47, CIFAR-10 Batch 4:  cost = 1.120345831 accuracy = 0.609199882\n",
      "Epoch 47, CIFAR-10 Batch 5:  cost = 1.111220360 accuracy = 0.616799891\n",
      "Epoch 48, CIFAR-10 Batch 1:  cost = 1.123348832 accuracy = 0.611199856\n",
      "Epoch 48, CIFAR-10 Batch 2:  cost = 1.108486891 accuracy = 0.617399931\n",
      "Epoch 48, CIFAR-10 Batch 3:  cost = 1.124196529 accuracy = 0.613999903\n",
      "Epoch 48, CIFAR-10 Batch 4:  cost = 1.102013826 accuracy = 0.617799878\n",
      "Epoch 48, CIFAR-10 Batch 5:  cost = 1.112198830 accuracy = 0.617799878\n",
      "Epoch 49, CIFAR-10 Batch 1:  cost = 1.126516223 accuracy = 0.614799857\n",
      "Epoch 49, CIFAR-10 Batch 2:  cost = 1.119377375 accuracy = 0.610199928\n",
      "Epoch 49, CIFAR-10 Batch 3:  cost = 1.137747169 accuracy = 0.611999929\n",
      "Epoch 49, CIFAR-10 Batch 4:  cost = 1.104472518 accuracy = 0.619399905\n",
      "Epoch 49, CIFAR-10 Batch 5:  cost = 1.112490892 accuracy = 0.622799873\n",
      "Epoch 50, CIFAR-10 Batch 1:  cost = 1.108413339 accuracy = 0.620399892\n",
      "Epoch 50, CIFAR-10 Batch 2:  cost = 1.102124333 accuracy = 0.619799912\n",
      "Epoch 50, CIFAR-10 Batch 3:  cost = 1.132414937 accuracy = 0.608599901\n",
      "Epoch 50, CIFAR-10 Batch 4:  cost = 1.111627460 accuracy = 0.619199872\n",
      "Epoch 50, CIFAR-10 Batch 5:  cost = 1.110227585 accuracy = 0.620799899\n"
     ]
    }
   ],
   "source": [
    "\"\"\"\n",
    "DON'T MODIFY ANYTHING IN THIS CELL\n",
    "\"\"\"\n",
    "save_model_path = './image_classification'\n",
    "\n",
    "print('Training...')\n",
    "with tf.Session() as sess:\n",
    "    # Initializing the variables\n",
    "    sess.run(tf.global_variables_initializer())\n",
    "    \n",
    "    # Training cycle\n",
    "    for epoch in range(epochs):\n",
    "        # Loop over all batches\n",
    "        n_batches = 5\n",
    "        for batch_i in range(1, n_batches + 1):\n",
    "            for batch_features, batch_labels in helper.load_preprocess_training_batch(batch_i, batch_size):\n",
    "                train_neural_network(sess, optimizer, keep_probability, batch_features, batch_labels)\n",
    "            print('Epoch {:>2}, CIFAR-10 Batch {}:  '.format(epoch + 1, batch_i), end='')\n",
    "            print_stats(sess, valid_features, valid_labels, cost, accuracy)\n",
    "            \n",
    "    # Save Model\n",
    "    saver = tf.train.Saver()\n",
    "    save_path = saver.save(sess, save_model_path)"
   ]
  },
  {
   "cell_type": "markdown",
   "metadata": {},
   "source": [
    "# Checkpoint\n",
    "The model has been saved to disk.\n",
    "## Test Model\n",
    "Test your model against the test dataset.  This will be your final accuracy. You should have an accuracy greater than 50%. If you don't, keep tweaking the model architecture and parameters."
   ]
  },
  {
   "cell_type": "code",
   "execution_count": 33,
   "metadata": {
    "collapsed": false
   },
   "outputs": [
    {
     "name": "stdout",
     "output_type": "stream",
     "text": [
      "Testing Accuracy: 0.6205078125\n",
      "\n"
     ]
    },
    {
     "data": {
      "image/png": "[encoded data removed]",
      "text/plain": [
       "<matplotlib.figure.Figure at 0x7fe3913c0ef0>"
      ]
     },
     "metadata": {
      "image/png": {
       "height": 319,
       "width": 355
      }
     },
     "output_type": "display_data"
    }
   ],
   "source": [
    "\"\"\"\n",
    "DON'T MODIFY ANYTHING IN THIS CELL\n",
    "\"\"\"\n",
    "%matplotlib inline\n",
    "%config InlineBackend.figure_format = 'retina'\n",
    "\n",
    "import tensorflow as tf\n",
    "import pickle\n",
    "import helper\n",
    "import random\n",
    "\n",
    "# Set batch size if not already set\n",
    "try:\n",
    "    if batch_size:\n",
    "        pass\n",
    "except NameError:\n",
    "    batch_size = 64\n",
    "\n",
    "save_model_path = './image_classification'\n",
    "n_samples = 4\n",
    "top_n_predictions = 3\n",
    "\n",
    "def test_model():\n",
    "    \"\"\"\n",
    "    Test the saved model against the test dataset\n",
    "    \"\"\"\n",
    "\n",
    "    test_features, test_labels = pickle.load(open('preprocess_training.p', mode='rb'))\n",
    "    loaded_graph = tf.Graph()\n",
    "\n",
    "    with tf.Session(graph=loaded_graph) as sess:\n",
    "        # Load model\n",
    "        loader = tf.train.import_meta_graph(save_model_path + '.meta')\n",
    "        loader.restore(sess, save_model_path)\n",
    "\n",
    "        # Get Tensors from loaded model\n",
    "        loaded_x = loaded_graph.get_tensor_by_name('x:0')\n",
    "        loaded_y = loaded_graph.get_tensor_by_name('y:0')\n",
    "        loaded_keep_prob = loaded_graph.get_tensor_by_name('keep_prob:0')\n",
    "        loaded_logits = loaded_graph.get_tensor_by_name('logits:0')\n",
    "        loaded_acc = loaded_graph.get_tensor_by_name('accuracy:0')\n",
    "        \n",
    "        # Get accuracy in batches for memory limitations\n",
    "        test_batch_acc_total = 0\n",
    "        test_batch_count = 0\n",
    "        \n",
    "        for train_feature_batch, train_label_batch in helper.batch_features_labels(test_features, test_labels, batch_size):\n",
    "            test_batch_acc_total += sess.run(\n",
    "                loaded_acc,\n",
    "                feed_dict={loaded_x: train_feature_batch, loaded_y: train_label_batch, loaded_keep_prob: 1.0})\n",
    "            test_batch_count += 1\n",
    "\n",
    "        print('Testing Accuracy: {}\\n'.format(test_batch_acc_total/test_batch_count))\n",
    "\n",
    "        # Print Random Samples\n",
    "        random_test_features, random_test_labels = tuple(zip(*random.sample(list(zip(test_features, test_labels)), n_samples)))\n",
    "        random_test_predictions = sess.run(\n",
    "            tf.nn.top_k(tf.nn.softmax(loaded_logits), top_n_predictions),\n",
    "            feed_dict={loaded_x: random_test_features, loaded_y: random_test_labels, loaded_keep_prob: 1.0})\n",
    "        helper.display_image_predictions(random_test_features, random_test_labels, random_test_predictions)\n",
    "\n",
    "\n",
    "test_model()"
   ]
  },
  {
   "cell_type": "markdown",
   "metadata": {},
   "source": [
    "## Why 50-70% Accuracy?\n",
    "You might be wondering why you can't get an accuracy any higher. First things first, 50% isn't bad for a simple CNN.  Pure guessing would get you 10% accuracy. However, you might notice people are getting scores [well above 70%](http://rodrigob.github.io/are_we_there_yet/build/classification_datasets_results.html#43494641522d3130).  That's because we haven't taught you all there is to know about neural networks. We still need to cover a few more techniques.\n",
    "## Submitting This Project\n",
    "When submitting this project, make sure to run all the cells before saving the notebook.  Save the notebook file as \"dlnd_image_classification.ipynb\" and save it as a HTML file under \"File\" -> \"Download as\".  Include the \"helper.py\" and \"problem_unittests.py\" files in your submission."
   ]
  }
 ],
 "metadata": {
  "kernelspec": {
   "display_name": "Python 3",
   "language": "python",
   "name": "python3"
  },
  "language_info": {
   "codemirror_mode": {
    "name": "ipython",
    "version": 3
   },
   "file_extension": ".py",
   "mimetype": "text/x-python",
   "name": "python",
   "nbconvert_exporter": "python",
   "pygments_lexer": "ipython3",
   "version": "3.6.0"
  }
 },
 "nbformat": 4,
 "nbformat_minor": 0
}
